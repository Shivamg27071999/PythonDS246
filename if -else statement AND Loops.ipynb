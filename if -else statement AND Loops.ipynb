{
 "cells": [
  {
   "cell_type": "markdown",
   "id": "3eb0c951",
   "metadata": {},
   "source": [
    "# if else - statements:-\n",
    "\n",
    "- if statement - are a conditional statement that can be used to check the condition is true or not\n",
    "- if condition is true then it will process next body part steps \n",
    "* there are some type of conditional statement\n",
    "    1. if statement\n",
    "    2. if else statement\n",
    "    3. switch statement"
   ]
  },
  {
   "cell_type": "markdown",
   "id": "0506b041",
   "metadata": {},
   "source": [
    "- syntax for if statement\n",
    "- if condition:\n",
    "    - body"
   ]
  },
  {
   "cell_type": "code",
   "execution_count": 1,
   "id": "ea934b65",
   "metadata": {},
   "outputs": [
    {
     "name": "stdout",
     "output_type": "stream",
     "text": [
      "Pass\n"
     ]
    }
   ],
   "source": [
    "#exomple of if else statement\n",
    "marks = 80\n",
    "if(marks>60):\n",
    "    print('Pass')\n",
    "else:\n",
    "    print('fail')"
   ]
  },
  {
   "cell_type": "code",
   "execution_count": 1,
   "id": "a23fd490",
   "metadata": {},
   "outputs": [
    {
     "name": "stdout",
     "output_type": "stream",
     "text": [
      "Enter the age of person:34\n",
      "person is adult\n"
     ]
    }
   ],
   "source": [
    "#example for taking input from user\n",
    "#here int is user to get inout type in integer form, otherwise it will be in string format\n",
    "a=int(input('Enter the age of person:'))\n",
    "if a>18:\n",
    "    print('person is adult')\n",
    "else:\n",
    "    print('person is minor')"
   ]
  },
  {
   "cell_type": "code",
   "execution_count": 2,
   "id": "6301c7a8",
   "metadata": {},
   "outputs": [
    {
     "name": "stdout",
     "output_type": "stream",
     "text": [
      "level of humidity34\n",
      "level of temperature23\n",
      "not normal\n"
     ]
    }
   ],
   "source": [
    "#to check if else statement with logical operator\n",
    "b=int(input('level of humidity'))\n",
    "c=int(input('level of temperature'))\n",
    "if b<24 and c==24:\n",
    "    print('weather condition is normal')\n",
    "else:\n",
    "    print('not normal')\n"
   ]
  },
  {
   "cell_type": "code",
   "execution_count": 4,
   "id": "3d5f2c58",
   "metadata": {},
   "outputs": [
    {
     "name": "stdout",
     "output_type": "stream",
     "text": [
      "ENter user marks110\n",
      "excellent\n"
     ]
    }
   ],
   "source": [
    "marks=int(input('ENter user marks'))\n",
    "if marks>80:\n",
    "    print('excellent')\n",
    "elif marks<=80 and marks>60:\n",
    "    print('good')\n",
    "else:\n",
    "    print('fail')"
   ]
  },
  {
   "cell_type": "code",
   "execution_count": 8,
   "id": "c4a6ac6c",
   "metadata": {},
   "outputs": [
    {
     "name": "stdout",
     "output_type": "stream",
     "text": [
      "Enter total income500000\n",
      "Tax slab 10% and taxable income is 50000.0\n"
     ]
    }
   ],
   "source": [
    "#CALCULATE THE TAXABLE AMOUNT ON INCOME\n",
    "#criteria income<2.5 lac no tax, income >2.5 & income <5.0 lac so tax 5%, income>5& icome<10 lac so tax is 10%, else 30%\n",
    "income=int(input('Enter total income'))\n",
    "if income<250000:\n",
    "    print('Tax slab {} and taxable income is {}'.format('0%',income*0))\n",
    "elif income>=250000 and income<500000:\n",
    "    print('Tax slab {} and taxable income is {}'.format('5%',income*0.05))\n",
    "elif income>=500000 and income<1000000:\n",
    "    print('Tax slab {} and taxable income is {}'.format('10%',income*0.10))\n",
    "else:\n",
    "    print('Tax slab {} and taxable income is {}'.format('30%',income*0.30))"
   ]
  },
  {
   "cell_type": "markdown",
   "id": "b19984b9",
   "metadata": {},
   "source": [
    "# Loops - while, do & for "
   ]
  },
  {
   "cell_type": "code",
   "execution_count": 11,
   "id": "734fc664",
   "metadata": {},
   "outputs": [
    {
     "name": "stdout",
     "output_type": "stream",
     "text": [
      "0\n",
      "1\n",
      "2\n",
      "3\n",
      "4\n",
      "5\n",
      "6\n",
      "7\n",
      "8\n",
      "9\n"
     ]
    }
   ],
   "source": [
    "#while loop \n",
    "#it can be used to iterate the condition\n",
    "# in which condition is true, then it will go to the body\n",
    "# syntax :-  while Condition:\n",
    "#it can be done with proper intendentation\n",
    "i=0\n",
    "while i<10:\n",
    "    print(i)\n",
    "    i=i+1"
   ]
  },
  {
   "cell_type": "code",
   "execution_count": 13,
   "id": "9d396b76",
   "metadata": {},
   "outputs": [
    {
     "name": "stdout",
     "output_type": "stream",
     "text": [
      "1\n",
      "2\n",
      "3\n",
      "4\n",
      "5\n",
      "7\n",
      "8\n"
     ]
    }
   ],
   "source": [
    "l=[1,2,3,4,5,7,8]\n",
    "i=0\n",
    "while i<len(l):\n",
    "    print(l[i])\n",
    "    i=i+1"
   ]
  },
  {
   "cell_type": "code",
   "execution_count": 15,
   "id": "70b442a1",
   "metadata": {},
   "outputs": [
    {
     "name": "stdout",
     "output_type": "stream",
     "text": [
      "11\n",
      "12\n",
      "13\n",
      "14\n"
     ]
    }
   ],
   "source": [
    "l1=[1,2,3,4,5,[11,12,13,14]]\n",
    "i=0\n",
    "while i<len(l1[5]):\n",
    "    print(l1[5][i])\n",
    "    i=i+1"
   ]
  },
  {
   "cell_type": "markdown",
   "id": "8bc5be0e",
   "metadata": {},
   "source": [
    "# for loop\n",
    "- syntax :- for i in range():\n",
    "- in range function take two values one is starting and second one is end point of the condition\n",
    "- for example - for i in range(1,10):\n",
    "    print(i)"
   ]
  },
  {
   "cell_type": "code",
   "execution_count": 16,
   "id": "dcf33e0f",
   "metadata": {},
   "outputs": [
    {
     "name": "stdout",
     "output_type": "stream",
     "text": [
      "1\n",
      "2\n",
      "3\n",
      "4\n",
      "5\n",
      "6\n",
      "7\n",
      "8\n",
      "9\n"
     ]
    }
   ],
   "source": [
    "for i in range(1,10):\n",
    "    print(i)"
   ]
  },
  {
   "cell_type": "code",
   "execution_count": null,
   "id": "076c4847",
   "metadata": {},
   "outputs": [],
   "source": []
  },
  {
   "cell_type": "code",
   "execution_count": null,
   "id": "98d3ec01",
   "metadata": {},
   "outputs": [],
   "source": []
  },
  {
   "cell_type": "code",
   "execution_count": null,
   "id": "c06da683",
   "metadata": {},
   "outputs": [],
   "source": []
  },
  {
   "cell_type": "code",
   "execution_count": null,
   "id": "79e0fc2e",
   "metadata": {},
   "outputs": [],
   "source": []
  },
  {
   "cell_type": "code",
   "execution_count": null,
   "id": "695605f1",
   "metadata": {},
   "outputs": [],
   "source": []
  },
  {
   "cell_type": "code",
   "execution_count": null,
   "id": "d5b94065",
   "metadata": {},
   "outputs": [],
   "source": []
  },
  {
   "cell_type": "code",
   "execution_count": null,
   "id": "146c89bd",
   "metadata": {},
   "outputs": [],
   "source": []
  },
  {
   "cell_type": "code",
   "execution_count": null,
   "id": "66203dca",
   "metadata": {},
   "outputs": [],
   "source": []
  },
  {
   "cell_type": "code",
   "execution_count": null,
   "id": "9084856b",
   "metadata": {},
   "outputs": [],
   "source": []
  }
 ],
 "metadata": {
  "kernelspec": {
   "display_name": "Python 3 (ipykernel)",
   "language": "python",
   "name": "python3"
  },
  "language_info": {
   "codemirror_mode": {
    "name": "ipython",
    "version": 3
   },
   "file_extension": ".py",
   "mimetype": "text/x-python",
   "name": "python",
   "nbconvert_exporter": "python",
   "pygments_lexer": "ipython3",
   "version": "3.11.4"
  }
 },
 "nbformat": 4,
 "nbformat_minor": 5
}
