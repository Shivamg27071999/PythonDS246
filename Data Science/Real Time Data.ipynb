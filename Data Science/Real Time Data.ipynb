{
 "cells": [
  {
   "cell_type": "markdown",
   "id": "13506f9e",
   "metadata": {},
   "source": [
    "## with real time data working need to import that file into dataframe\n",
    "- pd.read_csv() comma separaated file\n",
    "- pd.read_excel()\n",
    "- pd.read_json()\n"
   ]
  },
  {
   "cell_type": "code",
   "execution_count": 1,
   "id": "c24302c4",
   "metadata": {},
   "outputs": [],
   "source": [
    "import pandas as pd\n",
    "import numpy as np"
   ]
  },
  {
   "cell_type": "code",
   "execution_count": null,
   "id": "9b553432",
   "metadata": {},
   "outputs": [],
   "source": []
  }
 ],
 "metadata": {
  "kernelspec": {
   "display_name": "Python 3 (ipykernel)",
   "language": "python",
   "name": "python3"
  },
  "language_info": {
   "codemirror_mode": {
    "name": "ipython",
    "version": 3
   },
   "file_extension": ".py",
   "mimetype": "text/x-python",
   "name": "python",
   "nbconvert_exporter": "python",
   "pygments_lexer": "ipython3",
   "version": "3.11.4"
  }
 },
 "nbformat": 4,
 "nbformat_minor": 5
}
