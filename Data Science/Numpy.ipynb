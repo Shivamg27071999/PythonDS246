{
 "cells": [
  {
   "cell_type": "markdown",
   "id": "075c5a17",
   "metadata": {},
   "source": [
    "## Data Visualization\n",
    "- Data visualization having metplotlib, plotly, seaborn package that can be used to display the data into graphical representation\n",
    "### Manupulation of data\n",
    "- for data cleaning/ transformation/ analysis of data we have pandas, numpy library in python"
   ]
  },
  {
   "cell_type": "markdown",
   "id": "479e744f",
   "metadata": {},
   "source": [
    "## Numpy\n",
    "- Num=number, py = python\n",
    "- numpy library is very specific for working with the number\n",
    "- numpy array having fast data retrival\n",
    "### if we have list why we use numpy array\n",
    "- list                     \n",
    "1. hetroginous data                  \n",
    "2. [1,2,3,'abc',]                    \n",
    "3. list can store mulitple data type\n",
    "4. memory allocate each one of the elements inside the list\n",
    "    \n",
    "- numpy\n",
    "1. homogenous list\n",
    "2. [1,2,3,4], [a,b,c]\n",
    "3. it can store same type of dat\n",
    "4. memory allocate to each element adusently\n",
    "\n",
    "### numpy library\n",
    "- it is open source library\n",
    "- it can be used to perform vide variety of DS analysis\n",
    "- numpy is python library working with arrays\n",
    "- Numpy arrays called ndarray it means multi dimensional array\n",
    "- ndarray having - 1D, 2D, 3D, 4D\n",
    "    - 1D = vectors\n",
    "    - 2D = Matrcis\n",
    "## conda install numpy for installation of numoy\n"
   ]
  },
  {
   "cell_type": "code",
   "execution_count": 2,
   "id": "19c2919d",
   "metadata": {},
   "outputs": [],
   "source": [
    "#importing numpy library\n",
    "import numpy as np"
   ]
  },
  {
   "cell_type": "code",
   "execution_count": 2,
   "id": "5cdd2b85",
   "metadata": {},
   "outputs": [
    {
     "name": "stdout",
     "output_type": "stream",
     "text": [
      "1.24.3\n"
     ]
    }
   ],
   "source": [
    "#Check the version of numpy\n",
    "print(np.__version__)"
   ]
  },
  {
   "cell_type": "code",
   "execution_count": 3,
   "id": "04ecbb80",
   "metadata": {},
   "outputs": [
    {
     "data": {
      "text/plain": [
       "array([ 1,  2, 35,  5,  6])"
      ]
     },
     "execution_count": 3,
     "metadata": {},
     "output_type": "execute_result"
    }
   ],
   "source": [
    "# create ndarray\n",
    "arr = np.array([1,2,35,5,6])\n",
    "arr"
   ]
  },
  {
   "cell_type": "code",
   "execution_count": 4,
   "id": "4a2726e1",
   "metadata": {},
   "outputs": [
    {
     "data": {
      "text/plain": [
       "array([0, 1, 2, 3, 4, 5, 6, 7, 8, 9])"
      ]
     },
     "execution_count": 4,
     "metadata": {},
     "output_type": "execute_result"
    }
   ],
   "source": [
    "arr1 = np.array(range(10))\n",
    "arr1"
   ]
  },
  {
   "cell_type": "code",
   "execution_count": 5,
   "id": "b6d35cee",
   "metadata": {},
   "outputs": [
    {
     "data": {
      "text/plain": [
       "array([2, 3, 4, 5, 6, 7, 8, 9])"
      ]
     },
     "execution_count": 5,
     "metadata": {},
     "output_type": "execute_result"
    }
   ],
   "source": [
    "arr2 = np.array(range(2,10))\n",
    "arr2"
   ]
  },
  {
   "cell_type": "code",
   "execution_count": 6,
   "id": "cac22b2f",
   "metadata": {},
   "outputs": [],
   "source": [
    "arr3 = np.array(range(2,10,2))"
   ]
  },
  {
   "cell_type": "code",
   "execution_count": 7,
   "id": "5be87462",
   "metadata": {},
   "outputs": [
    {
     "data": {
      "text/plain": [
       "array([2, 4, 6, 8])"
      ]
     },
     "execution_count": 7,
     "metadata": {},
     "output_type": "execute_result"
    }
   ],
   "source": [
    "arr3"
   ]
  },
  {
   "cell_type": "code",
   "execution_count": 8,
   "id": "615926a7",
   "metadata": {},
   "outputs": [],
   "source": [
    "#How to create numpy array, \n",
    "# by using np.array function"
   ]
  },
  {
   "cell_type": "code",
   "execution_count": 12,
   "id": "ade8458f",
   "metadata": {},
   "outputs": [
    {
     "name": "stdout",
     "output_type": "stream",
     "text": [
      "[[ 1  2  3  4  5]\n",
      " [ 3  4 56  7  8]]\n",
      "<class 'numpy.ndarray'>\n"
     ]
    }
   ],
   "source": [
    "#cration of 2D Array\n",
    "arr2d = np.array([[1,2,3,4,5],[3,4,56,7,8]])\n",
    "print(arr2d)\n",
    "print(type(arr2d))"
   ]
  },
  {
   "cell_type": "code",
   "execution_count": 14,
   "id": "95eba223",
   "metadata": {},
   "outputs": [
    {
     "name": "stdout",
     "output_type": "stream",
     "text": [
      "ndshape of arr2d (2, 5)\n",
      "ndshape of arr (5,)\n"
     ]
    }
   ],
   "source": [
    "# to find the shape of Ndarray shape\n",
    "# arrayname.shape is syntax\n",
    "print(\"ndshape of arr2d\",arr2d.shape)\n",
    "print(\"ndshape of arr\",arr.shape)"
   ]
  },
  {
   "cell_type": "code",
   "execution_count": 6,
   "id": "81c83dae",
   "metadata": {},
   "outputs": [
    {
     "name": "stdout",
     "output_type": "stream",
     "text": [
      "[10.  12.5 15.  17.5 20. ]\n"
     ]
    }
   ],
   "source": [
    "a=np.linspace(10,20,5)\n",
    "print(a)"
   ]
  },
  {
   "cell_type": "code",
   "execution_count": 8,
   "id": "99d74be8",
   "metadata": {},
   "outputs": [
    {
     "name": "stdout",
     "output_type": "stream",
     "text": [
      "[0.         0.04081633 0.08163265 0.12244898 0.16326531 0.20408163\n",
      " 0.24489796 0.28571429 0.32653061 0.36734694 0.40816327 0.44897959\n",
      " 0.48979592 0.53061224 0.57142857 0.6122449  0.65306122 0.69387755\n",
      " 0.73469388 0.7755102  0.81632653 0.85714286 0.89795918 0.93877551\n",
      " 0.97959184 1.02040816 1.06122449 1.10204082 1.14285714 1.18367347\n",
      " 1.2244898  1.26530612 1.30612245 1.34693878 1.3877551  1.42857143\n",
      " 1.46938776 1.51020408 1.55102041 1.59183673 1.63265306 1.67346939\n",
      " 1.71428571 1.75510204 1.79591837 1.83673469 1.87755102 1.91836735\n",
      " 1.95918367 2.        ]\n"
     ]
    }
   ],
   "source": [
    "a1=np.linspace(0,2)\n",
    "print(a1)"
   ]
  },
  {
   "cell_type": "markdown",
   "id": "8ccd8e95",
   "metadata": {},
   "source": [
    "## Reshape in Array\n",
    "- the reshape() methods modified existing shape but original array remain unchanged\n",
    "- using arr.reshape() will give a new shape to an array without changing the data\n",
    "- just reminder that when you use the reshape method, the array you want to produce needs to have the same number of elemnts as the original array"
   ]
  },
  {
   "cell_type": "code",
   "execution_count": 15,
   "id": "a62e39b0",
   "metadata": {},
   "outputs": [
    {
     "name": "stdout",
     "output_type": "stream",
     "text": [
      "Before reshape [ 1  2  3  4  5  6  7  8  9 10 11 12]\n",
      "After reshape 2 row & 3 column\n",
      "[[ 1  2  3]\n",
      " [ 4  5  6]\n",
      " [ 7  8  9]\n",
      " [10 11 12]]\n",
      "After reshape 3 row & 2 column\n",
      "[[ 1  2  3  4]\n",
      " [ 5  6  7  8]\n",
      " [ 9 10 11 12]]\n"
     ]
    }
   ],
   "source": [
    "a3=np.array([1,2,3,4,5,6,7,8,9,10,11,12])\n",
    "print(\"Before reshape\",a3)\n",
    "#a3.reshape(2,3)\n",
    "print(\"After reshape 2 row & 3 column\")\n",
    "print(a3.reshape(4,3))\n",
    "print(\"After reshape 3 row & 2 column\")\n",
    "print(a3.reshape(3,4))"
   ]
  },
  {
   "cell_type": "code",
   "execution_count": 21,
   "id": "a63f1dd5",
   "metadata": {},
   "outputs": [
    {
     "name": "stdout",
     "output_type": "stream",
     "text": [
      "with 4D 2 row , 1 column\n",
      "[[[1]\n",
      "  [2]]\n",
      "\n",
      " [[3]\n",
      "  [4]]\n",
      "\n",
      " [[5]\n",
      "  [6]]\n",
      "\n",
      " [[7]\n",
      "  [8]]]\n",
      "with 4D 1 row , 2 column\n",
      "[[[1 2]]\n",
      "\n",
      " [[3 4]]\n",
      "\n",
      " [[5 6]]\n",
      "\n",
      " [[7 8]]]\n"
     ]
    }
   ],
   "source": [
    "a4=np.array([1,2,3,4,5,6,7,8])\n",
    "print(\"with 4D 2 row , 1 column\")\n",
    "print(a4.reshape(4,2,1))\n",
    "print(\"with 4D 1 row , 2 column\")\n",
    "print(a4.reshape(4,1,2))"
   ]
  },
  {
   "cell_type": "code",
   "execution_count": 8,
   "id": "f12b2b81",
   "metadata": {},
   "outputs": [
    {
     "name": "stdout",
     "output_type": "stream",
     "text": [
      "three group with two row and 4 column\n",
      "[[[0. 0. 0. 0.]\n",
      "  [0. 0. 0. 0.]]\n",
      "\n",
      " [[0. 0. 0. 0.]\n",
      "  [0. 0. 0. 0.]]\n",
      "\n",
      " [[0. 0. 0. 0.]\n",
      "  [0. 0. 0. 0.]]]\n",
      "with 3 row and 3 column\n",
      "[[0. 0. 0.]\n",
      " [0. 0. 0.]\n",
      " [0. 0. 0.]]\n"
     ]
    }
   ],
   "source": [
    "# Zero array\n",
    "#- the np.zeros() ndarray can be used to initialize the zero elements array\n",
    "a=np.zeros((3,2,4))\n",
    "print('three group with two row and 4 column')\n",
    "print(a)\n",
    "print(\"with 3 row and 3 column\")\n",
    "b=np.zeros((3,3))\n",
    "print(b)"
   ]
  },
  {
   "cell_type": "code",
   "execution_count": 10,
   "id": "48ab9d82",
   "metadata": {},
   "outputs": [
    {
     "name": "stdout",
     "output_type": "stream",
     "text": [
      "[[1. 1. 1.]\n",
      " [1. 1. 1.]\n",
      " [1. 1. 1.]]\n"
     ]
    }
   ],
   "source": [
    "# for ones in array:-\n",
    "# np.ones((row,column)) , generates an array with the specified dimesions and data is filled with ones\n",
    "aones=np.ones((3,3))\n",
    "print(aones)"
   ]
  },
  {
   "cell_type": "code",
   "execution_count": 12,
   "id": "6d2e50b3",
   "metadata": {},
   "outputs": [
    {
     "name": "stdout",
     "output_type": "stream",
     "text": [
      "[[[1. 1. 1.]\n",
      "  [1. 1. 1.]\n",
      "  [1. 1. 1.]]\n",
      "\n",
      " [[1. 1. 1.]\n",
      "  [1. 1. 1.]\n",
      "  [1. 1. 1.]]\n",
      "\n",
      " [[1. 1. 1.]\n",
      "  [1. 1. 1.]\n",
      "  [1. 1. 1.]]]\n"
     ]
    }
   ],
   "source": [
    "# for ones in array:-\n",
    "# np.ones((row,column)) , generates an array with the specified dimesions and data is filled with ones\n",
    "aones2=np.ones((3,3,3))\n",
    "print(aones2)"
   ]
  },
  {
   "cell_type": "code",
   "execution_count": 13,
   "id": "5e1483f8",
   "metadata": {},
   "outputs": [
    {
     "name": "stdout",
     "output_type": "stream",
     "text": [
      "[[[1 1 1 1 1]\n",
      "  [1 1 1 1 1]\n",
      "  [1 1 1 1 1]\n",
      "  [1 1 1 1 1]]\n",
      "\n",
      " [[1 1 1 1 1]\n",
      "  [1 1 1 1 1]\n",
      "  [1 1 1 1 1]\n",
      "  [1 1 1 1 1]]]\n"
     ]
    }
   ],
   "source": [
    "# if we want only int type data type with ones\n",
    "aones3=np.ones((2,4,5),dtype=int)\n",
    "print(aones3)"
   ]
  },
  {
   "cell_type": "code",
   "execution_count": 16,
   "id": "ac49ad21",
   "metadata": {},
   "outputs": [
    {
     "name": "stdout",
     "output_type": "stream",
     "text": [
      "[[4 4 4]\n",
      " [4 4 4]\n",
      " [4 4 4]]\n",
      "\n",
      "\n",
      "[[5 5 5]\n",
      " [5 5 5]\n",
      " [5 5 5]]\n",
      "\n",
      "\n",
      "[[[8 8 8]\n",
      "  [8 8 8]\n",
      "  [8 8 8]]\n",
      "\n",
      " [[8 8 8]\n",
      "  [8 8 8]\n",
      "  [8 8 8]]\n",
      "\n",
      " [[8 8 8]\n",
      "  [8 8 8]\n",
      "  [8 8 8]]]\n"
     ]
    }
   ],
   "source": [
    "# if we want with initialize all values with any number\n",
    "afull4 = np.full((3,3),4)\n",
    "print(afull4)\n",
    "print('\\n')\n",
    "afull5 = np.full((3,3),5)\n",
    "print(afull5)\n",
    "print('\\n')\n",
    "afull6 = np.full((3,3,3),8)\n",
    "print(afull6)"
   ]
  },
  {
   "cell_type": "code",
   "execution_count": 18,
   "id": "346c98eb",
   "metadata": {},
   "outputs": [
    {
     "name": "stdout",
     "output_type": "stream",
     "text": [
      "[[1. 0. 0. 0.]\n",
      " [0. 1. 0. 0.]\n",
      " [0. 0. 1. 0.]\n",
      " [0. 0. 0. 1.]]\n",
      "with 4 eye\n",
      "[[1 0 0 0 0]\n",
      " [0 1 0 0 0]\n",
      " [0 0 1 0 0]\n",
      " [0 0 0 1 0]\n",
      " [0 0 0 0 1]]\n",
      "with 5 eye\n"
     ]
    }
   ],
   "source": [
    "#Eye Array:-\n",
    "# the eye()function , retrun an array where all elements are equal to zero, except for the k-th diagnol , whose values are equal to 1\n",
    "aeye1=np.eye(4)\n",
    "print(aeye1)\n",
    "print('with 4 eye')\n",
    "aeye2=np.eye(5,dtype=int)\n",
    "print(aeye2)\n",
    "print('with 5 eye')"
   ]
  },
  {
   "cell_type": "code",
   "execution_count": 19,
   "id": "015412e1",
   "metadata": {},
   "outputs": [
    {
     "name": "stdout",
     "output_type": "stream",
     "text": [
      "[[1 0 0]\n",
      " [0 1 0]\n",
      " [0 0 1]\n",
      " [0 0 0]]\n"
     ]
    }
   ],
   "source": [
    "aeye1=np.eye(4,3,dtype=int)\n",
    "print(aeye1)"
   ]
  },
  {
   "cell_type": "code",
   "execution_count": 20,
   "id": "bde1a58a",
   "metadata": {},
   "outputs": [
    {
     "data": {
      "text/plain": [
       "array([[1., 0., 0.],\n",
       "       [0., 1., 0.],\n",
       "       [0., 0., 1.]])"
      ]
     },
     "execution_count": 20,
     "metadata": {},
     "output_type": "execute_result"
    }
   ],
   "source": [
    "#identity and diagonal array:-\n",
    "# the identity() function, generated square array with ones on the main diagonal whereas diag() function extract or construct diagonal array\n",
    "np.identity(3)"
   ]
  },
  {
   "cell_type": "code",
   "execution_count": 23,
   "id": "39f3bc4e",
   "metadata": {},
   "outputs": [
    {
     "data": {
      "text/plain": [
       "array([[3, 0, 0, 0],\n",
       "       [0, 4, 0, 0],\n",
       "       [0, 0, 5, 0],\n",
       "       [0, 0, 0, 6]])"
      ]
     },
     "execution_count": 23,
     "metadata": {},
     "output_type": "execute_result"
    }
   ],
   "source": [
    "np.diag(np.arange(3,7))"
   ]
  },
  {
   "cell_type": "code",
   "execution_count": 26,
   "id": "2e6a20bb",
   "metadata": {},
   "outputs": [
    {
     "data": {
      "text/plain": [
       "array([[5, 0, 0, 0],\n",
       "       [0, 5, 0, 0],\n",
       "       [0, 0, 5, 0],\n",
       "       [0, 0, 0, 5]])"
      ]
     },
     "execution_count": 26,
     "metadata": {},
     "output_type": "execute_result"
    }
   ],
   "source": [
    "np.diag(np.full((4),5))"
   ]
  },
  {
   "cell_type": "markdown",
   "id": "4a9f9569",
   "metadata": {},
   "source": [
    "## Numpy Random Number\n",
    "- The np.random.rand method - generate randoom no. that are uniformly distributed between 0 and 1\n",
    "- The np.random.randn method - generates an array with random number that are normally distributed with mean = 0, sd = 1\n",
    "- The np.random.randint method - generate randoom no. that are uniformly distributed between 0 and given number\n",
    "- The np.random.uniform method - generate randoom no. that are uniformly distributed within the given range of values\n",
    "- The np.random.rand method - puts the random values constant even though execute the random code for multiple files"
   ]
  },
  {
   "cell_type": "code",
   "execution_count": 27,
   "id": "cc0918ff",
   "metadata": {},
   "outputs": [
    {
     "data": {
      "text/plain": [
       "array([[0.84358588, 0.29101632, 0.96300826],\n",
       "       [0.82821052, 0.29010088, 0.07250141],\n",
       "       [0.26952184, 0.99740996, 0.66664821]])"
      ]
     },
     "execution_count": 27,
     "metadata": {},
     "output_type": "execute_result"
    }
   ],
   "source": [
    "#np.random.rand method\n",
    "np.random.rand(3,3)"
   ]
  },
  {
   "cell_type": "code",
   "execution_count": 28,
   "id": "e43fab45",
   "metadata": {},
   "outputs": [
    {
     "data": {
      "text/plain": [
       "array([[ 0.07169263,  0.36358332,  0.643952  ],\n",
       "       [-1.14067047, -0.89915931,  0.40147891],\n",
       "       [-1.05556544, -0.16007495,  0.3556252 ]])"
      ]
     },
     "execution_count": 28,
     "metadata": {},
     "output_type": "execute_result"
    }
   ],
   "source": [
    "#np.random.randn\n",
    "np.random.randn(3,3)"
   ]
  },
  {
   "cell_type": "code",
   "execution_count": 30,
   "id": "42d31c6b",
   "metadata": {},
   "outputs": [
    {
     "data": {
      "text/plain": [
       "3"
      ]
     },
     "execution_count": 30,
     "metadata": {},
     "output_type": "execute_result"
    }
   ],
   "source": [
    "#np.random.randn\n",
    "np.random.randint(2,9)#it will provide one number"
   ]
  },
  {
   "cell_type": "code",
   "execution_count": 31,
   "id": "b8c55568",
   "metadata": {},
   "outputs": [
    {
     "data": {
      "text/plain": [
       "array([0, 0, 8, 7, 3, 6])"
      ]
     },
     "execution_count": 31,
     "metadata": {},
     "output_type": "execute_result"
    }
   ],
   "source": [
    "np.random.randint(0,9,6)"
   ]
  },
  {
   "cell_type": "code",
   "execution_count": 7,
   "id": "fece2e95",
   "metadata": {},
   "outputs": [
    {
     "data": {
      "text/plain": [
       "array([1.70308722, 2.36831889, 3.12470433, 3.99297858])"
      ]
     },
     "execution_count": 7,
     "metadata": {},
     "output_type": "execute_result"
    }
   ],
   "source": [
    "np.random.uniform(1,5,4)"
   ]
  },
  {
   "cell_type": "code",
   "execution_count": null,
   "id": "311c561d",
   "metadata": {},
   "outputs": [],
   "source": [
    "np.random.unif"
   ]
  }
 ],
 "metadata": {
  "kernelspec": {
   "display_name": "Python 3 (ipykernel)",
   "language": "python",
   "name": "python3"
  },
  "language_info": {
   "codemirror_mode": {
    "name": "ipython",
    "version": 3
   },
   "file_extension": ".py",
   "mimetype": "text/x-python",
   "name": "python",
   "nbconvert_exporter": "python",
   "pygments_lexer": "ipython3",
   "version": "3.11.4"
  }
 },
 "nbformat": 4,
 "nbformat_minor": 5
}
