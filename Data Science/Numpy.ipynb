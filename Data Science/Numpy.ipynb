{
 "cells": [
  {
   "cell_type": "markdown",
   "id": "075c5a17",
   "metadata": {},
   "source": [
    "## Data Visualization\n",
    "- Data visualization having metplotlib, plotly, seaborn package that can be used to display the data into graphical representation\n",
    "### Manupulation of data\n",
    "- for data cleaning/ transformation/ analysis of data we have pandas, numpy library in python"
   ]
  },
  {
   "cell_type": "markdown",
   "id": "479e744f",
   "metadata": {},
   "source": [
    "## Numpy\n",
    "- Num=number, py = python\n",
    "- numpy library is very specific for working with the number\n",
    "- numpy array having fast data retrival\n",
    "### if we have list why we use numpy array\n",
    "- list                     \n",
    "1. hetroginous data                  \n",
    "2. [1,2,3,'abc',]                    \n",
    "3. list can store mulitple data type\n",
    "4. memory allocate each one of the elements inside the list\n",
    "    \n",
    "- numpy\n",
    "1. homogenous list\n",
    "2. [1,2,3,4], [a,b,c]\n",
    "3. it can store same type of dat\n",
    "4. memory allocate to each element adusently\n",
    "\n",
    "### numpy library\n",
    "- it is open source library\n",
    "- it can be used to perform vide variety of DS analysis\n",
    "- numpy is python library working with arrays\n",
    "- Numpy arrays called ndarray it means multi dimensional array\n",
    "- ndarray having - 1D, 2D, 3D, 4D\n",
    "    - 1D = vectors\n",
    "    - 2D = Matrcis\n",
    "## conda install numpy for installation of numoy\n"
   ]
  },
  {
   "cell_type": "code",
   "execution_count": 1,
   "id": "19c2919d",
   "metadata": {},
   "outputs": [],
   "source": [
    "#importing numpy library\n",
    "import numpy as np"
   ]
  },
  {
   "cell_type": "code",
   "execution_count": 2,
   "id": "5cdd2b85",
   "metadata": {},
   "outputs": [
    {
     "name": "stdout",
     "output_type": "stream",
     "text": [
      "1.24.3\n"
     ]
    }
   ],
   "source": [
    "#Check the version of numpy\n",
    "print(np.__version__)"
   ]
  },
  {
   "cell_type": "code",
   "execution_count": 3,
   "id": "04ecbb80",
   "metadata": {},
   "outputs": [
    {
     "data": {
      "text/plain": [
       "array([ 1,  2, 35,  5,  6])"
      ]
     },
     "execution_count": 3,
     "metadata": {},
     "output_type": "execute_result"
    }
   ],
   "source": [
    "# create ndarray\n",
    "arr = np.array([1,2,35,5,6])\n",
    "arr"
   ]
  },
  {
   "cell_type": "code",
   "execution_count": 4,
   "id": "4a2726e1",
   "metadata": {},
   "outputs": [
    {
     "data": {
      "text/plain": [
       "array([0, 1, 2, 3, 4, 5, 6, 7, 8, 9])"
      ]
     },
     "execution_count": 4,
     "metadata": {},
     "output_type": "execute_result"
    }
   ],
   "source": [
    "arr1 = np.array(range(10))\n",
    "arr1"
   ]
  },
  {
   "cell_type": "code",
   "execution_count": 5,
   "id": "b6d35cee",
   "metadata": {},
   "outputs": [
    {
     "data": {
      "text/plain": [
       "array([2, 3, 4, 5, 6, 7, 8, 9])"
      ]
     },
     "execution_count": 5,
     "metadata": {},
     "output_type": "execute_result"
    }
   ],
   "source": [
    "arr2 = np.array(range(2,10))\n",
    "arr2"
   ]
  },
  {
   "cell_type": "code",
   "execution_count": 6,
   "id": "cac22b2f",
   "metadata": {},
   "outputs": [],
   "source": [
    "arr3 = np.array(range(2,10,2))"
   ]
  },
  {
   "cell_type": "code",
   "execution_count": 7,
   "id": "5be87462",
   "metadata": {},
   "outputs": [
    {
     "data": {
      "text/plain": [
       "array([2, 4, 6, 8])"
      ]
     },
     "execution_count": 7,
     "metadata": {},
     "output_type": "execute_result"
    }
   ],
   "source": [
    "arr3"
   ]
  },
  {
   "cell_type": "code",
   "execution_count": 8,
   "id": "615926a7",
   "metadata": {},
   "outputs": [],
   "source": [
    "#How to create numpy array, \n",
    "# by using np.array function"
   ]
  },
  {
   "cell_type": "code",
   "execution_count": 12,
   "id": "ade8458f",
   "metadata": {},
   "outputs": [
    {
     "name": "stdout",
     "output_type": "stream",
     "text": [
      "[[ 1  2  3  4  5]\n",
      " [ 3  4 56  7  8]]\n",
      "<class 'numpy.ndarray'>\n"
     ]
    }
   ],
   "source": [
    "#cration of 2D Array\n",
    "arr2d = np.array([[1,2,3,4,5],[3,4,56,7,8]])\n",
    "print(arr2d)\n",
    "print(type(arr2d))"
   ]
  },
  {
   "cell_type": "code",
   "execution_count": 14,
   "id": "95eba223",
   "metadata": {},
   "outputs": [
    {
     "name": "stdout",
     "output_type": "stream",
     "text": [
      "ndshape of arr2d (2, 5)\n",
      "ndshape of arr (5,)\n"
     ]
    }
   ],
   "source": [
    "# to find the shape of Ndarray shape\n",
    "# arrayname.shape is syntax\n",
    "print(\"ndshape of arr2d\",arr2d.shape)\n",
    "print(\"ndshape of arr\",arr.shape)"
   ]
  },
  {
   "cell_type": "code",
   "execution_count": 6,
   "id": "81c83dae",
   "metadata": {},
   "outputs": [
    {
     "name": "stdout",
     "output_type": "stream",
     "text": [
      "[10.  12.5 15.  17.5 20. ]\n"
     ]
    }
   ],
   "source": [
    "a=np.linspace(10,20,5)\n",
    "print(a)"
   ]
  },
  {
   "cell_type": "code",
   "execution_count": 8,
   "id": "99d74be8",
   "metadata": {},
   "outputs": [
    {
     "name": "stdout",
     "output_type": "stream",
     "text": [
      "[0.         0.04081633 0.08163265 0.12244898 0.16326531 0.20408163\n",
      " 0.24489796 0.28571429 0.32653061 0.36734694 0.40816327 0.44897959\n",
      " 0.48979592 0.53061224 0.57142857 0.6122449  0.65306122 0.69387755\n",
      " 0.73469388 0.7755102  0.81632653 0.85714286 0.89795918 0.93877551\n",
      " 0.97959184 1.02040816 1.06122449 1.10204082 1.14285714 1.18367347\n",
      " 1.2244898  1.26530612 1.30612245 1.34693878 1.3877551  1.42857143\n",
      " 1.46938776 1.51020408 1.55102041 1.59183673 1.63265306 1.67346939\n",
      " 1.71428571 1.75510204 1.79591837 1.83673469 1.87755102 1.91836735\n",
      " 1.95918367 2.        ]\n"
     ]
    }
   ],
   "source": [
    "a1=np.linspace(0,2)\n",
    "print(a1)"
   ]
  },
  {
   "cell_type": "markdown",
   "id": "8ccd8e95",
   "metadata": {},
   "source": [
    "## Reshape in Array\n",
    "- the reshape() methods modified existing shape but original array remain unchanged\n",
    "- using arr.reshape() will give a new shape to an array without changing the data\n",
    "- just reminder that when you use the reshape method, the array you want to produce needs to have the same number of elemnts as the original array"
   ]
  },
  {
   "cell_type": "code",
   "execution_count": 15,
   "id": "a62e39b0",
   "metadata": {},
   "outputs": [
    {
     "name": "stdout",
     "output_type": "stream",
     "text": [
      "Before reshape [ 1  2  3  4  5  6  7  8  9 10 11 12]\n",
      "After reshape 2 row & 3 column\n",
      "[[ 1  2  3]\n",
      " [ 4  5  6]\n",
      " [ 7  8  9]\n",
      " [10 11 12]]\n",
      "After reshape 3 row & 2 column\n",
      "[[ 1  2  3  4]\n",
      " [ 5  6  7  8]\n",
      " [ 9 10 11 12]]\n"
     ]
    }
   ],
   "source": [
    "a3=np.array([1,2,3,4,5,6,7,8,9,10,11,12])\n",
    "print(\"Before reshape\",a3)\n",
    "#a3.reshape(2,3)\n",
    "print(\"After reshape 2 row & 3 column\")\n",
    "print(a3.reshape(4,3))\n",
    "print(\"After reshape 3 row & 2 column\")\n",
    "print(a3.reshape(3,4))"
   ]
  },
  {
   "cell_type": "code",
   "execution_count": 21,
   "id": "a63f1dd5",
   "metadata": {},
   "outputs": [
    {
     "name": "stdout",
     "output_type": "stream",
     "text": [
      "with 4D 2 row , 1 column\n",
      "[[[1]\n",
      "  [2]]\n",
      "\n",
      " [[3]\n",
      "  [4]]\n",
      "\n",
      " [[5]\n",
      "  [6]]\n",
      "\n",
      " [[7]\n",
      "  [8]]]\n",
      "with 4D 1 row , 2 column\n",
      "[[[1 2]]\n",
      "\n",
      " [[3 4]]\n",
      "\n",
      " [[5 6]]\n",
      "\n",
      " [[7 8]]]\n"
     ]
    }
   ],
   "source": [
    "a4=np.array([1,2,3,4,5,6,7,8])\n",
    "print(\"with 4D 2 row , 1 column\")\n",
    "print(a4.reshape(4,2,1))\n",
    "print(\"with 4D 1 row , 2 column\")\n",
    "print(a4.reshape(4,1,2))"
   ]
  },
  {
   "cell_type": "code",
   "execution_count": 8,
   "id": "f12b2b81",
   "metadata": {},
   "outputs": [
    {
     "name": "stdout",
     "output_type": "stream",
     "text": [
      "three group with two row and 4 column\n",
      "[[[0. 0. 0. 0.]\n",
      "  [0. 0. 0. 0.]]\n",
      "\n",
      " [[0. 0. 0. 0.]\n",
      "  [0. 0. 0. 0.]]\n",
      "\n",
      " [[0. 0. 0. 0.]\n",
      "  [0. 0. 0. 0.]]]\n",
      "with 3 row and 3 column\n",
      "[[0. 0. 0.]\n",
      " [0. 0. 0.]\n",
      " [0. 0. 0.]]\n"
     ]
    }
   ],
   "source": [
    "# Zero array\n",
    "#- the np.zeros() ndarray can be used to initialize the zero elements array\n",
    "a=np.zeros((3,2,4))\n",
    "print('three group with two row and 4 column')\n",
    "print(a)\n",
    "print(\"with 3 row and 3 column\")\n",
    "b=np.zeros((3,3))\n",
    "print(b)"
   ]
  },
  {
   "cell_type": "code",
   "execution_count": 10,
   "id": "48ab9d82",
   "metadata": {},
   "outputs": [
    {
     "name": "stdout",
     "output_type": "stream",
     "text": [
      "[[1. 1. 1.]\n",
      " [1. 1. 1.]\n",
      " [1. 1. 1.]]\n"
     ]
    }
   ],
   "source": [
    "# for ones in array:-\n",
    "# np.ones((row,column)) , generates an array with the specified dimesions and data is filled with ones\n",
    "aones=np.ones((3,3))\n",
    "print(aones)"
   ]
  },
  {
   "cell_type": "code",
   "execution_count": 12,
   "id": "6d2e50b3",
   "metadata": {},
   "outputs": [
    {
     "name": "stdout",
     "output_type": "stream",
     "text": [
      "[[[1. 1. 1.]\n",
      "  [1. 1. 1.]\n",
      "  [1. 1. 1.]]\n",
      "\n",
      " [[1. 1. 1.]\n",
      "  [1. 1. 1.]\n",
      "  [1. 1. 1.]]\n",
      "\n",
      " [[1. 1. 1.]\n",
      "  [1. 1. 1.]\n",
      "  [1. 1. 1.]]]\n"
     ]
    }
   ],
   "source": [
    "# for ones in array:-\n",
    "# np.ones((row,column)) , generates an array with the specified dimesions and data is filled with ones\n",
    "aones2=np.ones((3,3,3))\n",
    "print(aones2)"
   ]
  },
  {
   "cell_type": "code",
   "execution_count": 13,
   "id": "5e1483f8",
   "metadata": {},
   "outputs": [
    {
     "name": "stdout",
     "output_type": "stream",
     "text": [
      "[[[1 1 1 1 1]\n",
      "  [1 1 1 1 1]\n",
      "  [1 1 1 1 1]\n",
      "  [1 1 1 1 1]]\n",
      "\n",
      " [[1 1 1 1 1]\n",
      "  [1 1 1 1 1]\n",
      "  [1 1 1 1 1]\n",
      "  [1 1 1 1 1]]]\n"
     ]
    }
   ],
   "source": [
    "# if we want only int type data type with ones\n",
    "aones3=np.ones((2,4,5),dtype=int)\n",
    "print(aones3)"
   ]
  },
  {
   "cell_type": "code",
   "execution_count": 16,
   "id": "ac49ad21",
   "metadata": {},
   "outputs": [
    {
     "name": "stdout",
     "output_type": "stream",
     "text": [
      "[[4 4 4]\n",
      " [4 4 4]\n",
      " [4 4 4]]\n",
      "\n",
      "\n",
      "[[5 5 5]\n",
      " [5 5 5]\n",
      " [5 5 5]]\n",
      "\n",
      "\n",
      "[[[8 8 8]\n",
      "  [8 8 8]\n",
      "  [8 8 8]]\n",
      "\n",
      " [[8 8 8]\n",
      "  [8 8 8]\n",
      "  [8 8 8]]\n",
      "\n",
      " [[8 8 8]\n",
      "  [8 8 8]\n",
      "  [8 8 8]]]\n"
     ]
    }
   ],
   "source": [
    "# if we want with initialize all values with any number\n",
    "afull4 = np.full((3,3),4)\n",
    "print(afull4)\n",
    "print('\\n')\n",
    "afull5 = np.full((3,3),5)\n",
    "print(afull5)\n",
    "print('\\n')\n",
    "afull6 = np.full((3,3,3),8)\n",
    "print(afull6)"
   ]
  },
  {
   "cell_type": "code",
   "execution_count": 18,
   "id": "346c98eb",
   "metadata": {},
   "outputs": [
    {
     "name": "stdout",
     "output_type": "stream",
     "text": [
      "[[1. 0. 0. 0.]\n",
      " [0. 1. 0. 0.]\n",
      " [0. 0. 1. 0.]\n",
      " [0. 0. 0. 1.]]\n",
      "with 4 eye\n",
      "[[1 0 0 0 0]\n",
      " [0 1 0 0 0]\n",
      " [0 0 1 0 0]\n",
      " [0 0 0 1 0]\n",
      " [0 0 0 0 1]]\n",
      "with 5 eye\n"
     ]
    }
   ],
   "source": [
    "#Eye Array:-\n",
    "# the eye()function , retrun an array where all elements are equal to zero, except for the k-th diagnol , whose values are equal to 1\n",
    "aeye1=np.eye(4)\n",
    "print(aeye1)\n",
    "print('with 4 eye')\n",
    "aeye2=np.eye(5,dtype=int)\n",
    "print(aeye2)\n",
    "print('with 5 eye')"
   ]
  },
  {
   "cell_type": "code",
   "execution_count": 19,
   "id": "015412e1",
   "metadata": {},
   "outputs": [
    {
     "name": "stdout",
     "output_type": "stream",
     "text": [
      "[[1 0 0]\n",
      " [0 1 0]\n",
      " [0 0 1]\n",
      " [0 0 0]]\n"
     ]
    }
   ],
   "source": [
    "aeye1=np.eye(4,3,dtype=int)\n",
    "print(aeye1)"
   ]
  },
  {
   "cell_type": "code",
   "execution_count": 20,
   "id": "bde1a58a",
   "metadata": {},
   "outputs": [
    {
     "data": {
      "text/plain": [
       "array([[1., 0., 0.],\n",
       "       [0., 1., 0.],\n",
       "       [0., 0., 1.]])"
      ]
     },
     "execution_count": 20,
     "metadata": {},
     "output_type": "execute_result"
    }
   ],
   "source": [
    "#identity and diagonal array:-\n",
    "# the identity() function, generated square array with ones on the main diagonal whereas diag() function extract or construct diagonal array\n",
    "np.identity(3)"
   ]
  },
  {
   "cell_type": "code",
   "execution_count": 23,
   "id": "39f3bc4e",
   "metadata": {},
   "outputs": [
    {
     "data": {
      "text/plain": [
       "array([[3, 0, 0, 0],\n",
       "       [0, 4, 0, 0],\n",
       "       [0, 0, 5, 0],\n",
       "       [0, 0, 0, 6]])"
      ]
     },
     "execution_count": 23,
     "metadata": {},
     "output_type": "execute_result"
    }
   ],
   "source": [
    "np.diag(np.arange(3,7))"
   ]
  },
  {
   "cell_type": "code",
   "execution_count": 26,
   "id": "2e6a20bb",
   "metadata": {},
   "outputs": [
    {
     "data": {
      "text/plain": [
       "array([[5, 0, 0, 0],\n",
       "       [0, 5, 0, 0],\n",
       "       [0, 0, 5, 0],\n",
       "       [0, 0, 0, 5]])"
      ]
     },
     "execution_count": 26,
     "metadata": {},
     "output_type": "execute_result"
    }
   ],
   "source": [
    "np.diag(np.full((4),5))"
   ]
  },
  {
   "cell_type": "markdown",
   "id": "4a9f9569",
   "metadata": {},
   "source": [
    "## Numpy Random Number\n",
    "- The np.random.rand method - generate randoom no. that are uniformly distributed between 0 and 1\n",
    "- The np.random.randn method - generates an array with random number that are normally distributed with mean = 0, sd = 1\n",
    "- The np.random.randint method - generate randoom no. that are uniformly distributed between 0 and given number\n",
    "- The np.random.uniform method - generate randoom no. that are uniformly distributed within the given range of values\n",
    "- The np.random.rand method - puts the random values constant even though execute the random code for multiple files"
   ]
  },
  {
   "cell_type": "code",
   "execution_count": 27,
   "id": "cc0918ff",
   "metadata": {},
   "outputs": [
    {
     "data": {
      "text/plain": [
       "array([[0.84358588, 0.29101632, 0.96300826],\n",
       "       [0.82821052, 0.29010088, 0.07250141],\n",
       "       [0.26952184, 0.99740996, 0.66664821]])"
      ]
     },
     "execution_count": 27,
     "metadata": {},
     "output_type": "execute_result"
    }
   ],
   "source": [
    "#np.random.rand method\n",
    "np.random.rand(3,3)"
   ]
  },
  {
   "cell_type": "code",
   "execution_count": 28,
   "id": "e43fab45",
   "metadata": {},
   "outputs": [
    {
     "data": {
      "text/plain": [
       "array([[ 0.07169263,  0.36358332,  0.643952  ],\n",
       "       [-1.14067047, -0.89915931,  0.40147891],\n",
       "       [-1.05556544, -0.16007495,  0.3556252 ]])"
      ]
     },
     "execution_count": 28,
     "metadata": {},
     "output_type": "execute_result"
    }
   ],
   "source": [
    "#np.random.randn\n",
    "np.random.randn(3,3)"
   ]
  },
  {
   "cell_type": "code",
   "execution_count": 30,
   "id": "42d31c6b",
   "metadata": {},
   "outputs": [
    {
     "data": {
      "text/plain": [
       "3"
      ]
     },
     "execution_count": 30,
     "metadata": {},
     "output_type": "execute_result"
    }
   ],
   "source": [
    "#np.random.randn\n",
    "np.random.randint(2,9)#it will provide one number"
   ]
  },
  {
   "cell_type": "code",
   "execution_count": 31,
   "id": "b8c55568",
   "metadata": {},
   "outputs": [
    {
     "data": {
      "text/plain": [
       "array([0, 0, 8, 7, 3, 6])"
      ]
     },
     "execution_count": 31,
     "metadata": {},
     "output_type": "execute_result"
    }
   ],
   "source": [
    "np.random.randint(0,9,6)"
   ]
  },
  {
   "cell_type": "code",
   "execution_count": 3,
   "id": "fece2e95",
   "metadata": {},
   "outputs": [
    {
     "data": {
      "text/plain": [
       "array([2.49955937, 4.24543144, 1.00251818, 1.18123659])"
      ]
     },
     "execution_count": 3,
     "metadata": {},
     "output_type": "execute_result"
    }
   ],
   "source": [
    "np.random.uniform(1,5,4)"
   ]
  },
  {
   "cell_type": "code",
   "execution_count": 5,
   "id": "311c561d",
   "metadata": {},
   "outputs": [
    {
     "data": {
      "text/plain": [
       "<function RandomState.uniform>"
      ]
     },
     "execution_count": 5,
     "metadata": {},
     "output_type": "execute_result"
    }
   ],
   "source": [
    "np.random.uniform"
   ]
  },
  {
   "cell_type": "markdown",
   "id": "21d9bc27",
   "metadata": {},
   "source": [
    "## Statistical Operations"
   ]
  },
  {
   "cell_type": "code",
   "execution_count": 3,
   "id": "e48c6dca",
   "metadata": {},
   "outputs": [
    {
     "name": "stdout",
     "output_type": "stream",
     "text": [
      "[[10 20 30]\n",
      " [40 50 60]\n",
      " [70 80 90]]\n",
      "[[10 20 30]\n",
      " [40 50 60]\n",
      " [70 80 90]]\n"
     ]
    }
   ],
   "source": [
    "a=np.array(([10,20,30],[40,50,60],[70,80,90]))\n",
    "b=np.array(([10,20,30],[40,50,60],[70,80,90]))\n",
    "print(a)\n",
    "print(b)"
   ]
  },
  {
   "cell_type": "code",
   "execution_count": 4,
   "id": "a45873e2",
   "metadata": {},
   "outputs": [
    {
     "data": {
      "text/plain": [
       "array([[40, 50, 60]])"
      ]
     },
     "execution_count": 4,
     "metadata": {},
     "output_type": "execute_result"
    }
   ],
   "source": [
    "#to access the full row\n",
    "a[1:2,:]"
   ]
  },
  {
   "cell_type": "code",
   "execution_count": 5,
   "id": "27580f2f",
   "metadata": {},
   "outputs": [
    {
     "data": {
      "text/plain": [
       "array([[10, 20, 30]])"
      ]
     },
     "execution_count": 5,
     "metadata": {},
     "output_type": "execute_result"
    }
   ],
   "source": [
    "a[0:1,:]"
   ]
  },
  {
   "cell_type": "code",
   "execution_count": 6,
   "id": "98a86cbf",
   "metadata": {},
   "outputs": [
    {
     "data": {
      "text/plain": [
       "array([[40, 50, 60],\n",
       "       [70, 80, 90]])"
      ]
     },
     "execution_count": 6,
     "metadata": {},
     "output_type": "execute_result"
    }
   ],
   "source": [
    "a[1:3,:]"
   ]
  },
  {
   "cell_type": "code",
   "execution_count": 8,
   "id": "cafb0ec5",
   "metadata": {},
   "outputs": [
    {
     "data": {
      "text/plain": [
       "array([[30],\n",
       "       [60],\n",
       "       [90]])"
      ]
     },
     "execution_count": 8,
     "metadata": {},
     "output_type": "execute_result"
    }
   ],
   "source": [
    "#if i want all column 3\n",
    "a[0:3,2:]"
   ]
  },
  {
   "cell_type": "code",
   "execution_count": 9,
   "id": "26f1fa86",
   "metadata": {},
   "outputs": [
    {
     "data": {
      "text/plain": [
       "array([[70, 80, 90],\n",
       "       [40, 50, 60],\n",
       "       [10, 20, 30]])"
      ]
     },
     "execution_count": 9,
     "metadata": {},
     "output_type": "execute_result"
    }
   ],
   "source": [
    "#for reverse an array\n",
    "a[::-1]"
   ]
  },
  {
   "cell_type": "code",
   "execution_count": 10,
   "id": "d3ef129e",
   "metadata": {},
   "outputs": [
    {
     "data": {
      "text/plain": [
       "array([[90, 80, 70],\n",
       "       [60, 50, 40],\n",
       "       [30, 20, 10]])"
      ]
     },
     "execution_count": 10,
     "metadata": {},
     "output_type": "execute_result"
    }
   ],
   "source": [
    "a[::-1,::-1]"
   ]
  },
  {
   "cell_type": "code",
   "execution_count": 21,
   "id": "10441d8e",
   "metadata": {},
   "outputs": [
    {
     "name": "stdout",
     "output_type": "stream",
     "text": [
      "original array [[50 51 52 53 54 55 56 57 58 59]\n",
      " [60 61 62 63 64 65 66 67 68 69]\n",
      " [70 71 72 73 74 75 76 77 78 79]\n",
      " [80 81 82 83 84 85 86 87 88 89]\n",
      " [90 91 92 93 94 95 96 97 98 99]]\n",
      "\n",
      " can be reverse only row\n",
      "with flipr() function [[59 58 57 56 55 54 53 52 51 50]\n",
      " [69 68 67 66 65 64 63 62 61 60]\n",
      " [79 78 77 76 75 74 73 72 71 70]\n",
      " [89 88 87 86 85 84 83 82 81 80]\n",
      " [99 98 97 96 95 94 93 92 91 90]]\n",
      "\n",
      " can be reverse only column\n",
      "with flipud() [[90 91 92 93 94 95 96 97 98 99]\n",
      " [80 81 82 83 84 85 86 87 88 89]\n",
      " [70 71 72 73 74 75 76 77 78 79]\n",
      " [60 61 62 63 64 65 66 67 68 69]\n",
      " [50 51 52 53 54 55 56 57 58 59]]\n",
      "\n",
      " can be reverse both row and column\n",
      "with flip() [[99 98 97 96 95 94 93 92 91 90]\n",
      " [89 88 87 86 85 84 83 82 81 80]\n",
      " [79 78 77 76 75 74 73 72 71 70]\n",
      " [69 68 67 66 65 64 63 62 61 60]\n",
      " [59 58 57 56 55 54 53 52 51 50]]\n"
     ]
    }
   ],
   "source": [
    "#array flipping\n",
    "#there are three types of flipping - filpr(), flip(), flipud()\n",
    "arr1=np.arange(50,100).reshape(5,10)\n",
    "print(\"original array\",arr1)\n",
    "print('\\n can be reverse only row')\n",
    "print(\"with flipr() function\",np.fliplr(arr1))\n",
    "print('\\n can be reverse only column')\n",
    "print(\"with flipud()\",np.flipud(arr1))\n",
    "print('\\n can be reverse both row and column')\n",
    "print(\"with flip()\", np.flip(arr1))"
   ]
  },
  {
   "cell_type": "code",
   "execution_count": 24,
   "id": "d1f6f579",
   "metadata": {},
   "outputs": [
    {
     "name": "stdout",
     "output_type": "stream",
     "text": [
      "original array [[ 0  1  2  3  4  5  6  7  8  9]\n",
      " [10 11 12 13 14 15 16 17 18 19]\n",
      " [20 21 22 23 24 25 26 27 28 29]\n",
      " [30 31 32 33 34 35 36 37 38 39]\n",
      " [40 41 42 43 44 45 46 47 48 49]]\n",
      "\n",
      " can be reverse only row\n",
      "with flip(), axis 1 function [[ 9  8  7  6  5  4  3  2  1  0]\n",
      " [19 18 17 16 15 14 13 12 11 10]\n",
      " [29 28 27 26 25 24 23 22 21 20]\n",
      " [39 38 37 36 35 34 33 32 31 30]\n",
      " [49 48 47 46 45 44 43 42 41 40]]\n",
      "\n",
      " can be reverse only column\n",
      "with flip(), axis 0 function [[40 41 42 43 44 45 46 47 48 49]\n",
      " [30 31 32 33 34 35 36 37 38 39]\n",
      " [20 21 22 23 24 25 26 27 28 29]\n",
      " [10 11 12 13 14 15 16 17 18 19]\n",
      " [ 0  1  2  3  4  5  6  7  8  9]]\n"
     ]
    }
   ],
   "source": [
    "#inverse data with row and column with axis, here axis = 1 means row wise & if axis = 0 means column wise\n",
    "arr1=np.arange(0,50).reshape(5,10)\n",
    "print(\"original array\",arr1)\n",
    "print('\\n can be reverse only row')\n",
    "print(\"with flip(), axis 1 function\",np.flip(arr1, axis=1))\n",
    "print('\\n can be reverse only column')\n",
    "print(\"with flip(), axis 0 function\",np.flip(arr1, axis=0))"
   ]
  },
  {
   "cell_type": "markdown",
   "id": "0cf20609",
   "metadata": {},
   "source": [
    "## transpose on array\n",
    "- it means convert row into column and column into row"
   ]
  },
  {
   "cell_type": "code",
   "execution_count": 26,
   "id": "b7db7748",
   "metadata": {},
   "outputs": [],
   "source": [
    "arr2=np.arange(1,10).reshape(3,3)"
   ]
  },
  {
   "cell_type": "code",
   "execution_count": 29,
   "id": "80db43cf",
   "metadata": {},
   "outputs": [
    {
     "name": "stdout",
     "output_type": "stream",
     "text": [
      "original array is [[1 2 3]\n",
      " [4 5 6]\n",
      " [7 8 9]]\n",
      "transpose array is  [[1 4 7]\n",
      " [2 5 8]\n",
      " [3 6 9]]\n"
     ]
    }
   ],
   "source": [
    "print(\"original array is\",arr2)\n",
    "print(\"transpose array is \",np.transpose(arr2))"
   ]
  },
  {
   "cell_type": "code",
   "execution_count": 30,
   "id": "4d97d4fe",
   "metadata": {},
   "outputs": [
    {
     "data": {
      "text/plain": [
       "array([[1, 4, 7],\n",
       "       [2, 5, 8],\n",
       "       [3, 6, 9]])"
      ]
     },
     "execution_count": 30,
     "metadata": {},
     "output_type": "execute_result"
    }
   ],
   "source": [
    "arr2.T"
   ]
  },
  {
   "cell_type": "markdown",
   "id": "9f4a4fe4",
   "metadata": {},
   "source": [
    "## Rotate an array"
   ]
  },
  {
   "cell_type": "code",
   "execution_count": 32,
   "id": "749f1066",
   "metadata": {},
   "outputs": [
    {
     "data": {
      "text/plain": [
       "array([[3, 6, 9],\n",
       "       [2, 5, 8],\n",
       "       [1, 4, 7]])"
      ]
     },
     "execution_count": 32,
     "metadata": {},
     "output_type": "execute_result"
    }
   ],
   "source": [
    "np.rot90(arr2)"
   ]
  },
  {
   "cell_type": "markdown",
   "id": "b0a5f365",
   "metadata": {},
   "source": [
    "# Stacking in array\n",
    "- stackin gin array means merging one array into two horizontaly and vertically\n",
    "- it can be possible when numbers of row are same in two aray"
   ]
  },
  {
   "cell_type": "code",
   "execution_count": 37,
   "id": "0c9f2afb",
   "metadata": {},
   "outputs": [
    {
     "name": "stdout",
     "output_type": "stream",
     "text": [
      "original arrays are [[1 2 3]\n",
      " [4 5 6]\n",
      " [7 8 9]] [[11 12 13]\n",
      " [14 15 16]\n",
      " [17 18 19]]\n",
      "horizontal stack [[ 1  2  3 11 12 13]\n",
      " [ 4  5  6 14 15 16]\n",
      " [ 7  8  9 17 18 19]]\n",
      "vertical stack [[ 1  2  3]\n",
      " [ 4  5  6]\n",
      " [ 7  8  9]\n",
      " [11 12 13]\n",
      " [14 15 16]\n",
      " [17 18 19]]\n"
     ]
    }
   ],
   "source": [
    "a=np.arange(1,10).reshape(3,3)\n",
    "b=np.arange(11,20).reshape(3,3)\n",
    "print(\"original arrays are\", a , b)\n",
    "print(\"horizontal stack\",np.hstack((a,b)))\n",
    "print(\"vertical stack\",np.vstack((a,b)))"
   ]
  },
  {
   "cell_type": "markdown",
   "id": "01cbea9a",
   "metadata": {},
   "source": [
    "## Array Spliting"
   ]
  },
  {
   "cell_type": "code",
   "execution_count": 42,
   "id": "f87b2f66",
   "metadata": {},
   "outputs": [
    {
     "data": {
      "text/plain": [
       "array([[ 0,  1,  2,  3,  4,  5],\n",
       "       [ 6,  7,  8,  9, 10, 11],\n",
       "       [12, 13, 14, 15, 16, 17],\n",
       "       [18, 19, 20, 21, 22, 23]])"
      ]
     },
     "execution_count": 42,
     "metadata": {},
     "output_type": "execute_result"
    }
   ],
   "source": [
    "d=np.arange(0,24).reshape(4,6)\n",
    "d"
   ]
  },
  {
   "cell_type": "code",
   "execution_count": 43,
   "id": "f8c65f4d",
   "metadata": {},
   "outputs": [
    {
     "data": {
      "text/plain": [
       "[array([[ 0,  1],\n",
       "        [ 6,  7],\n",
       "        [12, 13],\n",
       "        [18, 19]]),\n",
       " array([[ 2,  3],\n",
       "        [ 8,  9],\n",
       "        [14, 15],\n",
       "        [20, 21]]),\n",
       " array([[ 4,  5],\n",
       "        [10, 11],\n",
       "        [16, 17],\n",
       "        [22, 23]])]"
      ]
     },
     "execution_count": 43,
     "metadata": {},
     "output_type": "execute_result"
    }
   ],
   "source": [
    "np.hsplit(d,3)"
   ]
  },
  {
   "cell_type": "code",
   "execution_count": 44,
   "id": "94d7183e",
   "metadata": {},
   "outputs": [
    {
     "data": {
      "text/plain": [
       "[array([[ 0,  1,  2,  3,  4,  5],\n",
       "        [ 6,  7,  8,  9, 10, 11]]),\n",
       " array([[12, 13, 14, 15, 16, 17],\n",
       "        [18, 19, 20, 21, 22, 23]])]"
      ]
     },
     "execution_count": 44,
     "metadata": {},
     "output_type": "execute_result"
    }
   ],
   "source": [
    "np.vsplit(d,2)"
   ]
  },
  {
   "cell_type": "markdown",
   "id": "8202034e",
   "metadata": {},
   "source": [
    "## Filtering an array:-\n",
    "- filtering an array with some condition\n",
    "- for this where fucntion is used\n"
   ]
  },
  {
   "cell_type": "code",
   "execution_count": 48,
   "id": "6da2f178",
   "metadata": {},
   "outputs": [
    {
     "data": {
      "text/plain": [
       "array([[ 0,  1,  2,  3],\n",
       "       [ 4,  5,  6,  7],\n",
       "       [ 8,  9, 10, 11]])"
      ]
     },
     "execution_count": 48,
     "metadata": {},
     "output_type": "execute_result"
    }
   ],
   "source": [
    "arr=np.arange(0,12).reshape(3,4)\n",
    "arr"
   ]
  },
  {
   "cell_type": "code",
   "execution_count": 49,
   "id": "40b00eb5",
   "metadata": {},
   "outputs": [
    {
     "data": {
      "text/plain": [
       "array([[1, 0, 1, 0],\n",
       "       [1, 0, 1, 0],\n",
       "       [1, 0, 1, 0]])"
      ]
     },
     "execution_count": 49,
     "metadata": {},
     "output_type": "execute_result"
    }
   ],
   "source": [
    "np.where(arr%2==0,1,0)"
   ]
  },
  {
   "cell_type": "code",
   "execution_count": 50,
   "id": "816853ed",
   "metadata": {},
   "outputs": [
    {
     "data": {
      "text/plain": [
       "array([[False, False, False, False],\n",
       "       [False, False, False,  True],\n",
       "       [ True,  True,  True,  True]])"
      ]
     },
     "execution_count": 50,
     "metadata": {},
     "output_type": "execute_result"
    }
   ],
   "source": [
    "np.where(arr>6,True,False)"
   ]
  },
  {
   "cell_type": "markdown",
   "id": "b61912fe",
   "metadata": {},
   "source": [
    "# Set operation in array\n"
   ]
  },
  {
   "cell_type": "code",
   "execution_count": 52,
   "id": "5c612ffa",
   "metadata": {},
   "outputs": [],
   "source": [
    "seta=np.arange(0,12).reshape(3,4)\n",
    "setb=np.arange(6,18).reshape(3,4)"
   ]
  },
  {
   "cell_type": "code",
   "execution_count": 53,
   "id": "16d321b4",
   "metadata": {},
   "outputs": [
    {
     "data": {
      "text/plain": [
       "array([ 0,  1,  2,  3,  4,  5,  6,  7,  8,  9, 10, 11, 12, 13, 14, 15, 16,\n",
       "       17])"
      ]
     },
     "execution_count": 53,
     "metadata": {},
     "output_type": "execute_result"
    }
   ],
   "source": [
    "np.union1d(seta,setb)"
   ]
  },
  {
   "cell_type": "code",
   "execution_count": 54,
   "id": "5146d842",
   "metadata": {},
   "outputs": [
    {
     "data": {
      "text/plain": [
       "array([ 6,  7,  8,  9, 10, 11])"
      ]
     },
     "execution_count": 54,
     "metadata": {},
     "output_type": "execute_result"
    }
   ],
   "source": [
    "np.intersect1d(seta,setb)"
   ]
  },
  {
   "cell_type": "code",
   "execution_count": 55,
   "id": "242f9d89",
   "metadata": {},
   "outputs": [
    {
     "data": {
      "text/plain": [
       "array([0, 1, 2, 3, 4, 5])"
      ]
     },
     "execution_count": 55,
     "metadata": {},
     "output_type": "execute_result"
    }
   ],
   "source": [
    "np.setdiff1d(seta,setb)"
   ]
  },
  {
   "cell_type": "code",
   "execution_count": null,
   "id": "9ec2e0ec",
   "metadata": {},
   "outputs": [],
   "source": []
  }
 ],
 "metadata": {
  "kernelspec": {
   "display_name": "Python 3 (ipykernel)",
   "language": "python",
   "name": "python3"
  },
  "language_info": {
   "codemirror_mode": {
    "name": "ipython",
    "version": 3
   },
   "file_extension": ".py",
   "mimetype": "text/x-python",
   "name": "python",
   "nbconvert_exporter": "python",
   "pygments_lexer": "ipython3",
   "version": "3.11.4"
  }
 },
 "nbformat": 4,
 "nbformat_minor": 5
}
