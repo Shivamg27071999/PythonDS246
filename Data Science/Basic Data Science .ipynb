{
 "cells": [
  {
   "cell_type": "markdown",
   "id": "0ac56bf9",
   "metadata": {},
   "source": [
    "# Data Science\n",
    "- Data Science is technique to get some information using some technique\n",
    "- type of DS\n",
    "    - Descriptive - describing the problems\n",
    "    - prescriptive - reason for raising the problems   \n",
    "    - predictive - solution of problem"
   ]
  },
  {
   "cell_type": "markdown",
   "id": "55f53038",
   "metadata": {},
   "source": [
    "## Data Science Life Cycle\n",
    "- Requirement Gathering\n",
    "- Data Gathering - it is needed to fulfil your requirement, \n",
    "    - Sources for Data Gathering\n",
    "        - in text format\n",
    "        - Excel\n",
    "        - CSV\n",
    "        - Database - Sql, NoSql\n",
    "- Data Cleaning - clean the data in that format so we can take analysis on it.\n",
    "- EDA (Exploraory data analysis) - here we can find the dips in analysis for example in sale analysis dip is happening in women sales\n",
    "- Predict the analysis- find the root cause for the dip \n",
    "- ML DL process to check it regular and provide the solution \n",
    "- maintain this algorithm"
   ]
  },
  {
   "cell_type": "markdown",
   "id": "5baebbb6",
   "metadata": {},
   "source": [
    "## Statistics\n",
    "- statistics are CENTRAL TENDENCY MEASURES \n",
    "- types of statistics\n",
    "    - descriptive - questioning about the data\n",
    "    - inferential - conclusion to get information from the data\n",
    "### Whenever we deal with data\n",
    "    - if the data set is very large we can take some sub sets from the data\n",
    "    - sample can be collect in following ways:-\n",
    "        1. Simple/ Random Samplify - simply select data\n",
    "        2. Stratified - select sample as per catagery\n",
    "        3. systematically - for example selecting data 7th in the data\n",
    "### Central Tendency Measures (some example for measure)\n",
    "    - mean\n",
    "    - median\n",
    "    - mode\n",
    "    - standard deviation\n",
    "    - variance\n",
    "    - correaltion\n",
    "    - covariance\n",
    "    - Skewness\n",
    "    - kutisus\n",
    "    - percentile\n",
    "    - plots - bar, scatter, box, histogram\n",
    "    - IQR interquterial range\n",
    " ### Mean - mean is an average\n",
    "     - rule for calcualtion of mean \n",
    "         - sum of the value/ sum of the number "
   ]
  },
  {
   "cell_type": "markdown",
   "id": "6a8b4334",
   "metadata": {},
   "source": [
    " ### Flat file\n",
    " - flat file nothing just like a notepad file"
   ]
  },
  {
   "cell_type": "markdown",
   "id": "f74a083e",
   "metadata": {},
   "source": [
    "# Types of Data\n",
    "- based on formatting and organized form types f data can be divided into three forms\n",
    "    - Unstructured - unorginezed data,  \n",
    "    - Semi Structured - it a type of data that can be in form of csv, Json format\n",
    "    - Structured - Structured data is in organized form , like sql, tabluar form data"
   ]
  },
  {
   "cell_type": "markdown",
   "id": "a717a4a8",
   "metadata": {},
   "source": [
    "## Analysis - working on present data, analysis on current situation\n",
    "## Analytics - working on future assumptions"
   ]
  },
  {
   "cell_type": "markdown",
   "id": "d4e90420",
   "metadata": {},
   "source": []
  }
 ],
 "metadata": {
  "kernelspec": {
   "display_name": "Python 3 (ipykernel)",
   "language": "python",
   "name": "python3"
  },
  "language_info": {
   "codemirror_mode": {
    "name": "ipython",
    "version": 3
   },
   "file_extension": ".py",
   "mimetype": "text/x-python",
   "name": "python",
   "nbconvert_exporter": "python",
   "pygments_lexer": "ipython3",
   "version": "3.11.4"
  }
 },
 "nbformat": 4,
 "nbformat_minor": 5
}
