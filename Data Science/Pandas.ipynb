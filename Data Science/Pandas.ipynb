{
 "cells": [
  {
   "cell_type": "markdown",
   "id": "7c5efe7e",
   "metadata": {},
   "source": [
    "## Pandas\n",
    "- used for data manupulation\n",
    "- date transformation\n",
    "- data improvement\n",
    "- having series and data frames\n",
    "- series are one dimensioanl dat\n",
    "- data frames stores in the form of table \n",
    "- "
   ]
  },
  {
   "cell_type": "code",
   "execution_count": 15,
   "id": "f0db3db8",
   "metadata": {},
   "outputs": [],
   "source": [
    "import pandas as pd\n",
    "import numpy as np"
   ]
  },
  {
   "cell_type": "code",
   "execution_count": 13,
   "id": "348cf581",
   "metadata": {},
   "outputs": [],
   "source": [
    "#ravel and flatten can make one dimensional array against any type of data\n",
    "# ravel is fast, original form of the array\n",
    "# flatten is slow , copy of the original"
   ]
  },
  {
   "cell_type": "code",
   "execution_count": 11,
   "id": "240fd889",
   "metadata": {
    "slideshow": {
     "slide_type": "slide"
    }
   },
   "outputs": [],
   "source": [
    "a=np.array([[[1,2,3,4,5]]])"
   ]
  },
  {
   "cell_type": "code",
   "execution_count": null,
   "id": "fd54c169",
   "metadata": {
    "slideshow": {
     "slide_type": "slide"
    }
   },
   "outputs": [],
   "source": []
  },
  {
   "cell_type": "code",
   "execution_count": 9,
   "id": "22275cc7",
   "metadata": {
    "slideshow": {
     "slide_type": "slide"
    }
   },
   "outputs": [
    {
     "data": {
      "text/plain": [
       "array([1, 2, 3, 4, 5])"
      ]
     },
     "execution_count": 9,
     "metadata": {},
     "output_type": "execute_result"
    }
   ],
   "source": [
    "a.flatten()"
   ]
  },
  {
   "cell_type": "code",
   "execution_count": 12,
   "id": "30a72661",
   "metadata": {},
   "outputs": [
    {
     "data": {
      "text/plain": [
       "array([1, 2, 3, 4, 5])"
      ]
     },
     "execution_count": 12,
     "metadata": {},
     "output_type": "execute_result"
    }
   ],
   "source": [
    "a.ravel()"
   ]
  },
  {
   "cell_type": "markdown",
   "id": "2fbe53b3",
   "metadata": {},
   "source": [
    "##  Basic Pandas"
   ]
  },
  {
   "cell_type": "markdown",
   "id": "7152c61c",
   "metadata": {},
   "source": [
    "1. Data Analysis can be done\n",
    "    - Data Cleaning\n",
    "    - Data Transformation\n",
    "    - data Manipulation\n",
    "    - import Data\n",
    "\n",
    "2. Pandas\n",
    "    - Pandas is data structure, having two types series & data frames\n",
    "    - Import csv, EXCEL , etc file\n",
    "    - For data visualization and machine learning algos can take data in the form of tablur form, and it can be done by only using pandas package\n",
    "    - "
   ]
  },
  {
   "cell_type": "code",
   "execution_count": 19,
   "id": "f2740411",
   "metadata": {},
   "outputs": [
    {
     "data": {
      "text/plain": [
       "0    a\n",
       "1    b\n",
       "2    c\n",
       "3    d\n",
       "dtype: object"
      ]
     },
     "execution_count": 19,
     "metadata": {},
     "output_type": "execute_result"
    }
   ],
   "source": [
    "a=pd.Series(['a','b','c','d'])\n",
    "a"
   ]
  },
  {
   "cell_type": "code",
   "execution_count": null,
   "id": "235abee6",
   "metadata": {},
   "outputs": [],
   "source": []
  }
 ],
 "metadata": {
  "kernelspec": {
   "display_name": "Python 3 (ipykernel)",
   "language": "python",
   "name": "python3"
  },
  "language_info": {
   "codemirror_mode": {
    "name": "ipython",
    "version": 3
   },
   "file_extension": ".py",
   "mimetype": "text/x-python",
   "name": "python",
   "nbconvert_exporter": "python",
   "pygments_lexer": "ipython3",
   "version": "3.11.4"
  }
 },
 "nbformat": 4,
 "nbformat_minor": 5
}
