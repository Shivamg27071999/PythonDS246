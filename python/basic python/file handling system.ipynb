{
 "cells": [
  {
   "cell_type": "markdown",
   "id": "c516cf8d",
   "metadata": {},
   "source": [
    "## Args and  kwargs\n",
    "- args - when we have no idea how many arguments we can receive in function, to solve this issue we can use args methed"
   ]
  },
  {
   "cell_type": "code",
   "execution_count": 5,
   "id": "9449869f",
   "metadata": {},
   "outputs": [
    {
     "name": "stdout",
     "output_type": "stream",
     "text": [
      "(1, 2, 3, 4, 5, 6)\n"
     ]
    }
   ],
   "source": [
    "def a(*args):\n",
    "    print(args)\n",
    "a(1,2,3,4,5,6)"
   ]
  },
  {
   "cell_type": "markdown",
   "id": "ceae0ec6",
   "metadata": {},
   "source": [
    "- kwargs - is used same like args but in which key value pairs can operate"
   ]
  },
  {
   "cell_type": "code",
   "execution_count": 8,
   "id": "78eaa332",
   "metadata": {},
   "outputs": [
    {
     "name": "stdout",
     "output_type": "stream",
     "text": [
      "dict_keys(['x', 'b', 'd'])\n",
      "dict_values([10, 30, 40])\n"
     ]
    }
   ],
   "source": [
    "def b(**kwargs):\n",
    "    print(kwargs.keys())\n",
    "    print(kwargs.values())\n",
    "b(x=10,b=30,d=40)"
   ]
  },
  {
   "cell_type": "markdown",
   "id": "a9ad4358",
   "metadata": {},
   "source": [
    "## File Handling in Python\n",
    "- create some file using python:- \n",
    "- how do we write something inside the file \n",
    "- how do you read something from the file\n",
    "\n",
    "1. Python to supports file handling and allows users to handle files i.e. to read and write files, along with many other file handling options, to operate on files\n",
    "- to open the file syntax is open(file_name,mode)\n",
    "- Files are the named locations on the disk to store information Non Volatile - Permanent\n",
    "- EOL end of line character is used to end the line, (,) comma is used to new line also"
   ]
  },
  {
   "cell_type": "markdown",
   "id": "ab24e065",
   "metadata": {},
   "source": [
    "- open - in which we mention file name & mode of open\n",
    "- syntax - f=open(filename,mode)\n",
    "- Mode of file opening:-\n",
    "    - \"r\" -open a file in read mode\n",
    "    - \"w\" - open a new file in write mode. if th file already exists. its old contents are destroyed\n",
    "    - \"a\" - open a file for appending data from the end of the file\n",
    "   - \"rb\" - opens a file form reading binary data.\n",
    "   - \"wb\" - opens a file for writing binary data."
   ]
  },
  {
   "cell_type": "code",
   "execution_count": 9,
   "id": "3c65ff8e",
   "metadata": {},
   "outputs": [],
   "source": [
    "#open the file\n",
    "f=open(\"shivam.txt\",\"w\")"
   ]
  },
  {
   "cell_type": "code",
   "execution_count": 12,
   "id": "1a77e074",
   "metadata": {},
   "outputs": [],
   "source": [
    "#require (/) symbol to used give path\n",
    "f1=open(\"C:/Users/ICBRPD-III/Desktop/CPWD/GEM.docx\",\"r\")"
   ]
  },
  {
   "cell_type": "code",
   "execution_count": 13,
   "id": "ba4f39b7",
   "metadata": {},
   "outputs": [
    {
     "name": "stdout",
     "output_type": "stream",
     "text": [
      "<_io.TextIOWrapper name='C:/Users/ICBRPD-III/Desktop/CPWD/GEM.docx' mode='r' encoding='cp1252'>\n"
     ]
    }
   ],
   "source": [
    "print(f1)"
   ]
  },
  {
   "cell_type": "code",
   "execution_count": 16,
   "id": "fbfc279b",
   "metadata": {},
   "outputs": [],
   "source": [
    "#to close the file we can use close method\n",
    "f.close()\n",
    "f1.close()"
   ]
  },
  {
   "cell_type": "markdown",
   "id": "2dc72778",
   "metadata": {},
   "source": [
    "## writing a file"
   ]
  },
  {
   "cell_type": "code",
   "execution_count": 18,
   "id": "ff8cbf4a",
   "metadata": {},
   "outputs": [],
   "source": [
    "file=open(\"shivam.txt\",\"w\")\n",
    "file.write(\"Hello this is shivam \\n THis is my first program\")\n",
    "file.close()"
   ]
  },
  {
   "cell_type": "code",
   "execution_count": 19,
   "id": "1d1cfca2",
   "metadata": {},
   "outputs": [],
   "source": [
    "file=open(\"shivam.txt\",\"a\")\n",
    "file.write(\"Hello this is second time opening to the file\\n\")\n",
    "file.close()"
   ]
  },
  {
   "cell_type": "code",
   "execution_count": 26,
   "id": "6abc1866",
   "metadata": {},
   "outputs": [
    {
     "name": "stdout",
     "output_type": "stream",
     "text": [
      "Hello this is shivam \n",
      " THis is my first programHello this is second time opening to the file\n",
      "\n",
      "Student Name  Age    Roll No. \n",
      " shivam     24   322100240\n",
      "\n"
     ]
    }
   ],
   "source": [
    "file=open(\"shivam.txt\",\"r\")\n",
    "print(file.read())\n",
    "file.close()"
   ]
  },
  {
   "cell_type": "code",
   "execution_count": 29,
   "id": "357cf021",
   "metadata": {},
   "outputs": [
    {
     "name": "stdout",
     "output_type": "stream",
     "text": [
      "Hello this is shivam \n",
      "\n"
     ]
    }
   ],
   "source": [
    "#to read the first line of the file we can use read line method\n",
    "file=open(\"shivam.txt\",\"r\")\n",
    "print(file.readline())\n",
    "file.close()"
   ]
  },
  {
   "cell_type": "code",
   "execution_count": 31,
   "id": "7980bf7f",
   "metadata": {},
   "outputs": [
    {
     "name": "stdout",
     "output_type": "stream",
     "text": [
      "Hello this is shivam \n",
      " THis is\n"
     ]
    }
   ],
   "source": [
    "#this function is used to print 0 to last index value\n",
    "file=open(\"shivam.txt\",\"r\")\n",
    "print(file.read(30))\n",
    "file.close()"
   ]
  },
  {
   "cell_type": "code",
   "execution_count": 34,
   "id": "26880344",
   "metadata": {},
   "outputs": [
    {
     "name": "stdout",
     "output_type": "stream",
     "text": [
      "Hell\n"
     ]
    }
   ],
   "source": [
    "#if we want to read the first with last index value of the file\n",
    "file=open(\"shivam.txt\",\"r\")\n",
    "print(file.readline(4))\n",
    "file.close()"
   ]
  },
  {
   "cell_type": "code",
   "execution_count": 43,
   "id": "4faabd0b",
   "metadata": {},
   "outputs": [
    {
     "name": "stdout",
     "output_type": "stream",
     "text": [
      "Hello this is shivam \n",
      "  THis is my first programHello this is second time opening to the file\n",
      " \n",
      " Student Name  Age    Roll No. \n",
      "  shivam     24   322100240\n",
      " "
     ]
    }
   ],
   "source": [
    "file=open(\"shivam.txt\",\"r\")\n",
    "for line in file:\n",
    "    print(line,end=\" \")\n",
    "file.close()"
   ]
  },
  {
   "cell_type": "markdown",
   "id": "98c2741e",
   "metadata": {},
   "source": [
    "## OS Module in python file handling system\n",
    "- to prevent the data in existing file, from being erased by mistake, you should test to see if the file exists before opening it for writing. the isfile function in the os.path module can be used for this type of situation"
   ]
  },
  {
   "cell_type": "code",
   "execution_count": 44,
   "id": "504ccc18",
   "metadata": {},
   "outputs": [
    {
     "name": "stdout",
     "output_type": "stream",
     "text": [
      "shivam.txt file exist in the disk\n"
     ]
    }
   ],
   "source": [
    "#example for os.path module to check file present in the disk or not\n",
    "import os.path\n",
    "if os.path.isfile(\"shivam.txt\"):\n",
    "    print('shivam.txt file exist in the disk')"
   ]
  },
  {
   "cell_type": "markdown",
   "id": "44dbd680",
   "metadata": {},
   "source": [
    "## Few methods for file handling:-\n",
    "- write() - to insert data into file\n",
    "- read() - to read the file data\n",
    "- readline() - read first line of the file\n",
    "- readlines() - read no. of line\n",
    "- open() - return a file object method, to create the file\n",
    "- close() - to close te file"
   ]
  },
  {
   "cell_type": "code",
   "execution_count": 3,
   "id": "80150efb",
   "metadata": {},
   "outputs": [],
   "source": [
    "file=open(\"shivam\",\"a\")\n",
    "file.write(\"\\n Shubham     26     2314\")\n",
    "file.close()"
   ]
  },
  {
   "cell_type": "code",
   "execution_count": 5,
   "id": "6440420a",
   "metadata": {},
   "outputs": [
    {
     "name": "stdout",
     "output_type": "stream",
     "text": [
      "\n",
      " Shubham     26     2314\n",
      " Shubham     26     2314\n",
      " Shubham     26     2314\n"
     ]
    }
   ],
   "source": [
    "file=open(\"shivam\",\"r\")\n",
    "print(file.read())\n",
    "file.close()"
   ]
  },
  {
   "cell_type": "code",
   "execution_count": 10,
   "id": "0de0d8f8",
   "metadata": {},
   "outputs": [
    {
     "name": "stdout",
     "output_type": "stream",
     "text": [
      "Student Name  Age    Roll No. \n",
      "\n",
      " shivam     24   322100240\n",
      "\n"
     ]
    }
   ],
   "source": [
    "#islice module use to print n no. of file\n",
    "from collections import deque\n",
    "with open(\"shivam.txt\",\"r\") as f:\n",
    "    for line in deque(f,maxlen=2):\n",
    "        print(line)"
   ]
  },
  {
   "cell_type": "code",
   "execution_count": 11,
   "id": "81376110",
   "metadata": {},
   "outputs": [],
   "source": [
    "f.close()"
   ]
  },
  {
   "cell_type": "code",
   "execution_count": 12,
   "id": "d0401927",
   "metadata": {},
   "outputs": [
    {
     "name": "stdout",
     "output_type": "stream",
     "text": [
      "Hello this is shivam \n",
      " THis is my first programHello this is second time opening to the file\n",
      "\n",
      "Student Name  Age    Roll No. \n",
      " shivam     24   322100240\n",
      "\n"
     ]
    }
   ],
   "source": [
    "file=open(\"shivam.txt\",\"r\")\n",
    "print(file.read())\n",
    "file.close()"
   ]
  },
  {
   "cell_type": "markdown",
   "id": "5c2a539f",
   "metadata": {},
   "source": [
    "## Exception Handling:-\n",
    "- to handle the failing or stopping of the program we can use exception handling funtions\n",
    "- syntax error - when we write incorrect syntax\n",
    "- type error - when we program addition of two variable, in which one is int and second one is string\n",
    "- name error - if we intialize a variable but mention in condition b\n",
    "- index error - we we communicate with wrong index\n",
    "- key error - if we dont give invalid key\n",
    "- attribute error - if intialize method is not found\n",
    "- IO error - if we intialize wrong statement\n",
    "- import error - if we can't import proper module"
   ]
  },
  {
   "cell_type": "code",
   "execution_count": 13,
   "id": "6960a75c",
   "metadata": {},
   "outputs": [
    {
     "name": "stdout",
     "output_type": "stream",
     "text": [
      "7\n"
     ]
    }
   ],
   "source": [
    "# error hadnling blocks :-\n",
    "# try block\n",
    "# except\n",
    "# else\n",
    "# finally\n",
    "#it is best practice to write our code in error handling blocks\n",
    "# if error in main block then it will go in except, so our code can't be failed\n",
    "#syntax\n",
    "try:\n",
    "    a=2\n",
    "    b=5\n",
    "    res=a+b\n",
    "    print(res)\n",
    "except:\n",
    "    print(\"something is not good:(\")\n",
    "    "
   ]
  },
  {
   "cell_type": "code",
   "execution_count": 14,
   "id": "25bafbf1",
   "metadata": {},
   "outputs": [
    {
     "name": "stdout",
     "output_type": "stream",
     "text": [
      "something is not good:(\n"
     ]
    }
   ],
   "source": [
    "try:\n",
    "    a=2\n",
    "    b=\"shivam\"\n",
    "    res=a+b\n",
    "    print(res)\n",
    "except:\n",
    "    print(\"something is not good:(\")\n",
    "    "
   ]
  },
  {
   "cell_type": "code",
   "execution_count": 16,
   "id": "827ea3cc",
   "metadata": {},
   "outputs": [
    {
     "name": "stdout",
     "output_type": "stream",
     "text": [
      "7\n",
      "all is well\n"
     ]
    }
   ],
   "source": [
    "try:\n",
    "    a=2\n",
    "    b=5\n",
    "    res=a+b\n",
    "    print(res)\n",
    "except:\n",
    "    print(\"something is not good:(\")\n",
    "else:\n",
    "    print(\"all is well\")\n",
    "#Here if try block execute successfully then else part can run that show everything is happen"
   ]
  },
  {
   "cell_type": "markdown",
   "id": "795acdea",
   "metadata": {},
   "source": [
    "### there are multiple except block for one try block as per conditions\n",
    "- finally is come when all except can run"
   ]
  },
  {
   "cell_type": "code",
   "execution_count": 17,
   "id": "44ca9472",
   "metadata": {},
   "outputs": [
    {
     "name": "stdout",
     "output_type": "stream",
     "text": [
      "something is not good:(\n",
      "finally block\n"
     ]
    }
   ],
   "source": [
    "try:\n",
    "    a=2\n",
    "    b=\"something\"\n",
    "    res=a+b\n",
    "    print(res)\n",
    "except:\n",
    "    print(\"something is not good:(\")\n",
    "else:\n",
    "    print(\"all is well\")\n",
    "finally:\n",
    "    print(\"finally block\")\n",
    "#here, finally block is run either try block successfully run or not run"
   ]
  },
  {
   "cell_type": "code",
   "execution_count": 1,
   "id": "7d6027f0",
   "metadata": {},
   "outputs": [
    {
     "name": "stdout",
     "output_type": "stream",
     "text": [
      "The entry is a\n",
      "Oops! invalid literal for int() with base 10: 'a' occured.\n",
      "Next entry.\n",
      "\n",
      "The entry is 0\n",
      "Oops! division by zero occured.\n",
      "Next entry.\n",
      "\n",
      "The entry is 1.3\n",
      "Oops! invalid literal for int() with base 10: '1.3' occured.\n",
      "Next entry.\n",
      "\n",
      "The entry is 2\n",
      "The reciprocal of 2 is 0.5\n"
     ]
    }
   ],
   "source": [
    "import sys\n",
    "randomList = ['a', 0, '1.3',2]\n",
    "for i in randomList:\n",
    "    try:\n",
    "        print(\"The entry is\", i)\n",
    "        r = 1/int(i)\n",
    "        break\n",
    "    except:\n",
    "        print(\"Oops!\",sys.exc_info()[1],\"occured.\")\n",
    "        print(\"Next entry.\")\n",
    "        print()\n",
    "print(\"The reciprocal of\",i,\"is\",r)"
   ]
  },
  {
   "cell_type": "code",
   "execution_count": null,
   "id": "33d8cd1a",
   "metadata": {},
   "outputs": [],
   "source": []
  }
 ],
 "metadata": {
  "kernelspec": {
   "display_name": "Python 3 (ipykernel)",
   "language": "python",
   "name": "python3"
  },
  "language_info": {
   "codemirror_mode": {
    "name": "ipython",
    "version": 3
   },
   "file_extension": ".py",
   "mimetype": "text/x-python",
   "name": "python",
   "nbconvert_exporter": "python",
   "pygments_lexer": "ipython3",
   "version": "3.11.4"
  }
 },
 "nbformat": 4,
 "nbformat_minor": 5
}
