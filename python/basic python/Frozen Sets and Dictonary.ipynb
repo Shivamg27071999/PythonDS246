{
 "cells": [
  {
   "cell_type": "markdown",
   "id": "b8c01aee",
   "metadata": {},
   "source": [
    "# Manipulation and Accessing Sets\n",
    "- Here, we can add and remove elements into the sets\n",
    "- we can also done some basic fucntioning like min, max sum function into the set"
   ]
  },
  {
   "cell_type": "code",
   "execution_count": 3,
   "id": "b8fad397",
   "metadata": {},
   "outputs": [
    {
     "name": "stdout",
     "output_type": "stream",
     "text": [
      "['S', 'H', 'i', 'v', 'a', 'm']\n"
     ]
    }
   ],
   "source": [
    "# to convert string into list\n",
    "a='SHivam'\n",
    "b=list(a)\n",
    "print(b)"
   ]
  },
  {
   "cell_type": "code",
   "execution_count": 4,
   "id": "7601a57d",
   "metadata": {},
   "outputs": [
    {
     "data": {
      "text/plain": [
       "'SHivam'"
      ]
     },
     "execution_count": 4,
     "metadata": {},
     "output_type": "execute_result"
    }
   ],
   "source": [
    "# to convert list into string\n",
    "''.join(b)\n",
    "#after converting the list into string we got string"
   ]
  },
  {
   "cell_type": "code",
   "execution_count": 5,
   "id": "cfa0ee8a",
   "metadata": {},
   "outputs": [
    {
     "name": "stdout",
     "output_type": "stream",
     "text": [
      "H\n",
      "v\n"
     ]
    }
   ],
   "source": [
    "#to find the maximum element into the list\n",
    "print(min(b))\n",
    "print(max(b))"
   ]
  },
  {
   "cell_type": "code",
   "execution_count": 8,
   "id": "dc163e37",
   "metadata": {},
   "outputs": [
    {
     "name": "stdout",
     "output_type": "stream",
     "text": [
      "frozenset({1, 2, 3, 4})\n"
     ]
    }
   ],
   "source": [
    "#sets are mutable but we can convert set into immutable by using frozen sets\n",
    "# frozenset keyword is used to initialize this type of sets\n",
    "f=frozenset((1,2,3,4))\n",
    "print(f)"
   ]
  },
  {
   "cell_type": "markdown",
   "id": "8eecd0a1",
   "metadata": {},
   "source": [
    "#  Dictonary:-\n",
    "- python dictonary is data data structure that can be used to store key/value pair\n",
    "- The key are like an index order\n",
    "- keys in dictonary are immutable and hashable in nature"
   ]
  },
  {
   "cell_type": "code",
   "execution_count": 10,
   "id": "42bdcf32",
   "metadata": {},
   "outputs": [
    {
     "name": "stdout",
     "output_type": "stream",
     "text": [
      "type of data type d1 is  <class 'dict'>\n",
      "d1 lements are {'name': 'shivam', 'age': '24'}\n"
     ]
    }
   ],
   "source": [
    "d1={'name':'shivam','age':'24'}\n",
    "print('type of data type d1 is ',type(d1))\n",
    "print('d1 lements are',d1)\n"
   ]
  },
  {
   "cell_type": "code",
   "execution_count": 15,
   "id": "784e8d7b",
   "metadata": {},
   "outputs": [
    {
     "name": "stdout",
     "output_type": "stream",
     "text": [
      "{'name': 'shivam', 'age': 24, 'subject': {'math': 60, 'eng': 43}}\n",
      "{'math': 60, 'eng': 43}\n",
      "60\n"
     ]
    }
   ],
   "source": [
    "# 2D - Dictionary\n",
    "d2={'name':'shivam','age':24,'subject':{'math':60,'eng':43}}\n",
    "print(d2)\n",
    "#for accessing the value of math we can use key\n",
    "print(d2['subject'])\n",
    "#for accessing the value of dictionary inside the dictionary\n",
    "print(d2['subject']['math'])"
   ]
  },
  {
   "cell_type": "code",
   "execution_count": 17,
   "id": "a8e82f99",
   "metadata": {},
   "outputs": [
    {
     "name": "stdout",
     "output_type": "stream",
     "text": [
      "before adding the new key value pair {'name': 'shivam', 'age': 24, 'subject': {'math': 60, 'eng': 43}}\n",
      "after adding the key value pair {'name': 'shivam', 'age': 24, 'subject': {'math': 60, 'eng': 43}, 'status': 'pass'}\n"
     ]
    }
   ],
   "source": [
    "# adding key value pair inside the dictionary\n",
    "print('before adding the new key value pair', d2)\n",
    "d2['status']='pass'\n",
    "print('after adding the key value pair',d2)"
   ]
  },
  {
   "cell_type": "code",
   "execution_count": 22,
   "id": "ca9d9aa5",
   "metadata": {},
   "outputs": [
    {
     "name": "stdout",
     "output_type": "stream",
     "text": [
      "before adding the new key value pair {'name': 'shivam', 'age': 24, 'subject': {'math': 60, 'eng': 43}, 'status': 'pass'}\n",
      "after adding the key value pair {'name': 'shivam', 'age': 24, 'subject': {'math': 60, 'eng': 43}, 'status': 'pass', 'qualified': 'yes'}\n"
     ]
    }
   ],
   "source": [
    "#here is update keyword  function that can be used to insert of update the key value pair\n",
    "print('before adding the new key value pair', d2)\n",
    "d2.update({'qualified':'yes'})\n",
    "print('after adding the key value pair',d2)"
   ]
  },
  {
   "cell_type": "code",
   "execution_count": 23,
   "id": "1b129476",
   "metadata": {},
   "outputs": [
    {
     "name": "stdout",
     "output_type": "stream",
     "text": [
      "before pop functioning {'name': 'shivam', 'age': 24, 'subject': {'math': 60, 'eng': 43}, 'status': 'pass', 'qualified': 'yes'}\n",
      "after pop operations {'name': 'shivam', 'age': 24, 'subject': {'math': 60, 'eng': 43}, 'status': 'pass'}\n"
     ]
    }
   ],
   "source": [
    "# Remove fucntion is not worked in a dictionary\n",
    "#We can use pop function to remove the key pair into the dictionary\n",
    "print('before pop functioning',d2)\n",
    "d2.pop('qualified')\n",
    "print('after pop operations',d2)"
   ]
  },
  {
   "cell_type": "code",
   "execution_count": 26,
   "id": "69f8ec7c",
   "metadata": {},
   "outputs": [
    {
     "name": "stdout",
     "output_type": "stream",
     "text": [
      "before popitem functioning {'name': 'shivam', 'age': 24, 'subject': {'math': 60, 'eng': 43}, 'status': 'pass'}\n",
      "after popitem operations {'name': 'shivam', 'age': 24, 'subject': {'math': 60, 'eng': 43}}\n"
     ]
    }
   ],
   "source": [
    "# popitem function is used to remove the last elment/ key value pairof the dictionary\n",
    "#syntax for that is:- dictionary_name.popitem()\n",
    "print('before popitem functioning',d2)\n",
    "d2.popitem()\n",
    "print('after popitem operations',d2)"
   ]
  },
  {
   "cell_type": "code",
   "execution_count": null,
   "id": "35bc849c",
   "metadata": {},
   "outputs": [],
   "source": []
  },
  {
   "cell_type": "code",
   "execution_count": null,
   "id": "803938f6",
   "metadata": {},
   "outputs": [],
   "source": []
  },
  {
   "cell_type": "code",
   "execution_count": null,
   "id": "4d96337f",
   "metadata": {},
   "outputs": [],
   "source": []
  },
  {
   "cell_type": "code",
   "execution_count": null,
   "id": "4f051017",
   "metadata": {},
   "outputs": [],
   "source": []
  },
  {
   "cell_type": "code",
   "execution_count": null,
   "id": "fafaca15",
   "metadata": {},
   "outputs": [],
   "source": []
  },
  {
   "cell_type": "code",
   "execution_count": null,
   "id": "69a8d7fe",
   "metadata": {},
   "outputs": [],
   "source": []
  },
  {
   "cell_type": "code",
   "execution_count": null,
   "id": "1e29e9b7",
   "metadata": {},
   "outputs": [],
   "source": []
  },
  {
   "cell_type": "code",
   "execution_count": null,
   "id": "aeb7ce4f",
   "metadata": {},
   "outputs": [],
   "source": []
  },
  {
   "cell_type": "code",
   "execution_count": null,
   "id": "d99f534f",
   "metadata": {},
   "outputs": [],
   "source": []
  },
  {
   "cell_type": "code",
   "execution_count": null,
   "id": "9611c758",
   "metadata": {},
   "outputs": [],
   "source": []
  },
  {
   "cell_type": "code",
   "execution_count": null,
   "id": "3e0bf4a2",
   "metadata": {},
   "outputs": [],
   "source": []
  },
  {
   "cell_type": "code",
   "execution_count": null,
   "id": "88840eb0",
   "metadata": {},
   "outputs": [],
   "source": []
  },
  {
   "cell_type": "code",
   "execution_count": null,
   "id": "b1684046",
   "metadata": {},
   "outputs": [],
   "source": []
  },
  {
   "cell_type": "code",
   "execution_count": null,
   "id": "235703b7",
   "metadata": {},
   "outputs": [],
   "source": []
  },
  {
   "cell_type": "code",
   "execution_count": null,
   "id": "cf33887f",
   "metadata": {},
   "outputs": [],
   "source": []
  },
  {
   "cell_type": "code",
   "execution_count": null,
   "id": "6b9e446e",
   "metadata": {},
   "outputs": [],
   "source": []
  }
 ],
 "metadata": {
  "kernelspec": {
   "display_name": "Python 3 (ipykernel)",
   "language": "python",
   "name": "python3"
  },
  "language_info": {
   "codemirror_mode": {
    "name": "ipython",
    "version": 3
   },
   "file_extension": ".py",
   "mimetype": "text/x-python",
   "name": "python",
   "nbconvert_exporter": "python",
   "pygments_lexer": "ipython3",
   "version": "3.11.4"
  }
 },
 "nbformat": 4,
 "nbformat_minor": 5
}
