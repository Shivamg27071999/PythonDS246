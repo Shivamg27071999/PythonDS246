{
 "cells": [
  {
   "cell_type": "markdown",
   "id": "3eb0c951",
   "metadata": {},
   "source": [
    "# if else - statements:-\n",
    "\n",
    "- if statement - are a conditional statement that can be used to check the condition is true or not\n",
    "- if condition is true then it will process next body part steps \n",
    "* there are some type of conditional statement\n",
    "    1. if statement\n",
    "    2. if else statement\n",
    "    3. switch statement"
   ]
  },
  {
   "cell_type": "markdown",
   "id": "0506b041",
   "metadata": {},
   "source": [
    "- syntax for if statement\n",
    "- if condition:\n",
    "    - body"
   ]
  },
  {
   "cell_type": "code",
   "execution_count": 1,
   "id": "ea934b65",
   "metadata": {},
   "outputs": [
    {
     "name": "stdout",
     "output_type": "stream",
     "text": [
      "Pass\n"
     ]
    }
   ],
   "source": [
    "#exomple of if else statement\n",
    "marks = 80\n",
    "if(marks>60):\n",
    "    print('Pass')\n",
    "else:\n",
    "    print('fail')"
   ]
  },
  {
   "cell_type": "code",
   "execution_count": 1,
   "id": "a23fd490",
   "metadata": {},
   "outputs": [
    {
     "name": "stdout",
     "output_type": "stream",
     "text": [
      "Enter the age of person:34\n",
      "person is adult\n"
     ]
    }
   ],
   "source": [
    "#example for taking input from user\n",
    "#here int is user to get inout type in integer form, otherwise it will be in string format\n",
    "a=int(input('Enter the age of person:'))\n",
    "if a>18:\n",
    "    print('person is adult')\n",
    "else:\n",
    "    print('person is minor')"
   ]
  },
  {
   "cell_type": "code",
   "execution_count": 2,
   "id": "92e206c7",
   "metadata": {},
   "outputs": [
    {
     "name": "stdout",
     "output_type": "stream",
     "text": [
      "level of humidity34\n",
      "level of temperature23\n",
      "not normal\n"
     ]
    }
   ],
   "source": [
    "#to check if else statement with logical operator\n",
    "b=int(input('level of humidity'))\n",
    "c=int(input('level of temperature'))\n",
    "if b<24 and c==24:\n",
    "    print('weather condition is normal')\n",
    "else:\n",
    "    print('not normal')\n"
   ]
  },
  {
   "cell_type": "code",
   "execution_count": 4,
   "id": "c2ae0f6d",
   "metadata": {},
   "outputs": [
    {
     "name": "stdout",
     "output_type": "stream",
     "text": [
      "ENter user marks110\n",
      "excellent\n"
     ]
    }
   ],
   "source": [
    "marks=int(input('ENter user marks'))\n",
    "if marks>80:\n",
    "    print('excellent')\n",
    "elif marks<=80 and marks>60:\n",
    "    print('good')\n",
    "else:\n",
    "    print('fail')"
   ]
  },
  {
   "cell_type": "code",
   "execution_count": 8,
   "id": "92ea12aa",
   "metadata": {},
   "outputs": [
    {
     "name": "stdout",
     "output_type": "stream",
     "text": [
      "Enter total income500000\n",
      "Tax slab 10% and taxable income is 50000.0\n"
     ]
    }
   ],
   "source": [
    "#CALCULATE THE TAXABLE AMOUNT ON INCOME\n",
    "#criteria income<2.5 lac no tax, income >2.5 & income <5.0 lac so tax 5%, income>5& icome<10 lac so tax is 10%, else 30%\n",
    "income=int(input('Enter total income'))\n",
    "if income<250000:\n",
    "    print('Tax slab {} and taxable income is {}'.format('0%',income*0))\n",
    "elif income>=250000 and income<500000:\n",
    "    print('Tax slab {} and taxable income is {}'.format('5%',income*0.05))\n",
    "elif income>=500000 and income<1000000:\n",
    "    print('Tax slab {} and taxable income is {}'.format('10%',income*0.10))\n",
    "else:\n",
    "    print('Tax slab {} and taxable income is {}'.format('30%',income*0.30))"
   ]
  },
  {
   "cell_type": "markdown",
   "id": "be81f630",
   "metadata": {},
   "source": [
    "# Loops - while, do & for "
   ]
  },
  {
   "cell_type": "code",
   "execution_count": 11,
   "id": "82b46c6f",
   "metadata": {},
   "outputs": [
    {
     "name": "stdout",
     "output_type": "stream",
     "text": [
      "0\n",
      "1\n",
      "2\n",
      "3\n",
      "4\n",
      "5\n",
      "6\n",
      "7\n",
      "8\n",
      "9\n"
     ]
    }
   ],
   "source": [
    "#while loop \n",
    "#it can be used to iterate the condition\n",
    "# in which condition is true, then it will go to the body\n",
    "# syntax :-  while Condition:\n",
    "#it can be done with proper intendentation\n",
    "i=0\n",
    "while i<10:\n",
    "    print(i)\n",
    "    i=i+1"
   ]
  },
  {
   "cell_type": "code",
   "execution_count": 13,
   "id": "ecfe68ea",
   "metadata": {},
   "outputs": [
    {
     "name": "stdout",
     "output_type": "stream",
     "text": [
      "1\n",
      "2\n",
      "3\n",
      "4\n",
      "5\n",
      "7\n",
      "8\n"
     ]
    }
   ],
   "source": [
    "l=[1,2,3,4,5,7,8]\n",
    "i=0\n",
    "while i<len(l):\n",
    "    print(l[i])\n",
    "    i=i+1"
   ]
  },
  {
   "cell_type": "code",
   "execution_count": 15,
   "id": "6673f1b9",
   "metadata": {},
   "outputs": [
    {
     "name": "stdout",
     "output_type": "stream",
     "text": [
      "11\n",
      "12\n",
      "13\n",
      "14\n"
     ]
    }
   ],
   "source": [
    "l1=[1,2,3,4,5,[11,12,13,14]]\n",
    "i=0\n",
    "while i<len(l1[5]):\n",
    "    print(l1[5][i])\n",
    "    i=i+1"
   ]
  },
  {
   "cell_type": "markdown",
   "id": "3894fcdb",
   "metadata": {},
   "source": [
    "# for loop\n",
    "- syntax :- for i in range():\n",
    "- in range function take two values one is starting and second one is end point of the condition\n",
    "- for example - for i in range(1,10):\n",
    "    print(i)"
   ]
  },
  {
   "cell_type": "code",
   "execution_count": 16,
   "id": "051a7b5b",
   "metadata": {},
   "outputs": [
    {
     "name": "stdout",
     "output_type": "stream",
     "text": [
      "1\n",
      "2\n",
      "3\n",
      "4\n",
      "5\n",
      "6\n",
      "7\n",
      "8\n",
      "9\n"
     ]
    }
   ],
   "source": [
    "for i in range(1,10):\n",
    "    print(i)"
   ]
  },
  {
   "cell_type": "markdown",
   "id": "49f2db23",
   "metadata": {},
   "source": [
    "## Control Flow Statement\n",
    "- this statement is used to control the flow of the loop while execution\n",
    "- pass - this keyword is used in the place of block which is required syntatically but not logically\n",
    "- break - this is used to terminate the loop\n",
    "- continue - to continue the current iteration"
   ]
  },
  {
   "cell_type": "code",
   "execution_count": 17,
   "id": "13378930",
   "metadata": {},
   "outputs": [
    {
     "name": "stdout",
     "output_type": "stream",
     "text": [
      "1\n",
      "2\n",
      "3\n",
      "4\n",
      "5\n",
      "6\n",
      "7\n",
      "8\n",
      "9\n",
      "10\n"
     ]
    }
   ],
   "source": [
    "# pass keyword - when need execution continue, like some error occured and you can't skip and want to execution same conditio\n",
    "x=0\n",
    "while x<10:\n",
    "    x+=1\n",
    "    if(x==5):\n",
    "        pass\n",
    "    print(x)"
   ]
  },
  {
   "cell_type": "code",
   "execution_count": 18,
   "id": "f670b4bd",
   "metadata": {},
   "outputs": [
    {
     "name": "stdout",
     "output_type": "stream",
     "text": [
      "1\n",
      "2\n",
      "3\n",
      "4\n",
      "6\n",
      "7\n",
      "8\n",
      "9\n",
      "10\n"
     ]
    }
   ],
   "source": [
    "# Continue keyword - when error occured and you want to skip that condition\n",
    "x=0\n",
    "while x<10:\n",
    "    x+=1\n",
    "    if(x==5):\n",
    "        continue\n",
    "    print(x)"
   ]
  },
  {
   "cell_type": "code",
   "execution_count": 19,
   "id": "77d0bb7f",
   "metadata": {},
   "outputs": [
    {
     "name": "stdout",
     "output_type": "stream",
     "text": [
      "1\n",
      "2\n",
      "3\n",
      "4\n"
     ]
    }
   ],
   "source": [
    "# break keyword - when error occured and you want to terminate the entire loop/iterates\n",
    "x=0\n",
    "while x<10:\n",
    "    x+=1\n",
    "    if(x==5):\n",
    "        break\n",
    "    print(x)"
   ]
  },
  {
   "cell_type": "code",
   "execution_count": 27,
   "id": "8384e144",
   "metadata": {},
   "outputs": [
    {
     "name": "stdout",
     "output_type": "stream",
     "text": [
      "Enter Stringdad\n",
      "\n",
      "\n",
      "pallandrom\n"
     ]
    }
   ],
   "source": [
    "#program to check enter string is pallandgrom or not\n",
    "a=input('Enter String')\n",
    "b=a[::-1]\n",
    "print(\"\\n\")#to enter a new line\n",
    "if (a==b):\n",
    "    print('pallandrom')\n",
    "else:\n",
    "    print('not pallandrom')"
   ]
  },
  {
   "cell_type": "code",
   "execution_count": 5,
   "id": "81d9ba3a",
   "metadata": {},
   "outputs": [
    {
     "name": "stdout",
     "output_type": "stream",
     "text": [
      "enter number5\n",
      "1\n",
      "2\n",
      "3\n"
     ]
    }
   ],
   "source": [
    "#program for fibannaci series\n",
    "fab=int(input('enter number'))\n",
    "a=0;\n",
    "b=1;\n",
    "if fab==0:\n",
    "    print('answer is 0')\n",
    "elif fab==1:\n",
    "    print('answer is 1')\n",
    "elif fab==2:\n",
    "    print('answer is 1')\n",
    "else:\n",
    "    for i in range(2,fab):\n",
    "        c=a+b\n",
    "        a=b\n",
    "        b=c\n",
    "        print(c)"
   ]
  },
  {
   "cell_type": "markdown",
   "id": "ab8392c8",
   "metadata": {},
   "source": [
    "## functions:- \n",
    "- functions are a set of code that can be used to reuse again and again\n",
    "- it can be define using def keyword\n",
    "- syntax for funciton is :- def function_name():"
   ]
  },
  {
   "cell_type": "code",
   "execution_count": 6,
   "id": "65ad9c4f",
   "metadata": {},
   "outputs": [
    {
     "name": "stdout",
     "output_type": "stream",
     "text": [
      "30\n"
     ]
    }
   ],
   "source": [
    "def add(a,b):\n",
    "    return a+b\n",
    "c=add(10,20)\n",
    "print(c)"
   ]
  },
  {
   "cell_type": "markdown",
   "id": "d2223444",
   "metadata": {},
   "source": [
    "method vs function\n",
    "- method code written for specific any class, while funciton is generic code written to perform some task\n",
    "- method list.append, x.append(), & function just like generic created function sum(), len(), max()\n",
    "- "
   ]
  }
 ],
 "metadata": {
  "kernelspec": {
   "display_name": "Python 3 (ipykernel)",
   "language": "python",
   "name": "python3"
  },
  "language_info": {
   "codemirror_mode": {
    "name": "ipython",
    "version": 3
   },
   "file_extension": ".py",
   "mimetype": "text/x-python",
   "name": "python",
   "nbconvert_exporter": "python",
   "pygments_lexer": "ipython3",
   "version": "3.11.4"
  }
 },
 "nbformat": 4,
 "nbformat_minor": 5
}
