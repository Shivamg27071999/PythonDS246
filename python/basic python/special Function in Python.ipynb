{
 "cells": [
  {
   "cell_type": "markdown",
   "id": "e7fe7b96",
   "metadata": {},
   "source": [
    "# special function are used to perform some important task\n",
    "- lambda function\n",
    "- zip function\n",
    "- Map\n",
    "- reduce\n",
    "- filter"
   ]
  },
  {
   "cell_type": "markdown",
   "id": "c5c531f9",
   "metadata": {},
   "source": [
    "- Zip function :- is an aggregator, meaning it aggregate two or more iterable or sequence, the zip function stop whenver the shortest of the variable is exhausted"
   ]
  },
  {
   "cell_type": "code",
   "execution_count": 3,
   "id": "48435bb5",
   "metadata": {},
   "outputs": [
    {
     "data": {
      "text/plain": [
       "[(1, 6), (2, 7), (3, 8), (4, 9)]"
      ]
     },
     "execution_count": 3,
     "metadata": {},
     "output_type": "execute_result"
    }
   ],
   "source": [
    "l1=[1,2,3,4]\n",
    "l2=[6,7,8,9]\n",
    "list(zip(l1,l2))"
   ]
  },
  {
   "cell_type": "code",
   "execution_count": 4,
   "id": "ab4aeb1a",
   "metadata": {},
   "outputs": [
    {
     "data": {
      "text/plain": [
       "[(1, 6), (2, 7), (3, 8), (4, 9)]"
      ]
     },
     "execution_count": 4,
     "metadata": {},
     "output_type": "execute_result"
    }
   ],
   "source": [
    "l1=[1,2,3,4,5,6]\n",
    "l2=[6,7,8,9]\n",
    "list(zip(l1,l2))"
   ]
  },
  {
   "cell_type": "code",
   "execution_count": 6,
   "id": "3028fd65",
   "metadata": {},
   "outputs": [
    {
     "data": {
      "text/plain": [
       "[('firstname', 'Lastname'), ('age', 'mob')]"
      ]
     },
     "execution_count": 6,
     "metadata": {},
     "output_type": "execute_result"
    }
   ],
   "source": [
    "l3={'firstname':'shivam','age':'24'}\n",
    "l4={'Lastname':'garg','mob':'34343'}\n",
    "list(zip(l3,l4))"
   ]
  },
  {
   "cell_type": "code",
   "execution_count": 9,
   "id": "dee155b8",
   "metadata": {},
   "outputs": [
    {
     "data": {
      "text/plain": [
       "{'firstname': 'shivam', 'age': '24', 'Lastname': 'garg', 'mob': '34343'}"
      ]
     },
     "execution_count": 9,
     "metadata": {},
     "output_type": "execute_result"
    }
   ],
   "source": [
    "#unpacking of lists\n",
    "{**l3,**l4}"
   ]
  },
  {
   "cell_type": "markdown",
   "id": "513a8aa1",
   "metadata": {},
   "source": [
    "## Lambda Function - it is inline function, it can make 3 - 4 line code of function into one function\n",
    "- syntax = lamba parameter:expression\n",
    "- e.g sqrt_of_a = lambda a:a**2"
   ]
  },
  {
   "cell_type": "code",
   "execution_count": 10,
   "id": "0bb0cb78",
   "metadata": {},
   "outputs": [
    {
     "name": "stdout",
     "output_type": "stream",
     "text": [
      "100\n"
     ]
    }
   ],
   "source": [
    "sqrt_of_a = lambda a:a**2\n",
    "print(sqrt_of_a(10))"
   ]
  },
  {
   "cell_type": "code",
   "execution_count": 1,
   "id": "94fcd32f",
   "metadata": {},
   "outputs": [
    {
     "name": "stdout",
     "output_type": "stream",
     "text": [
      "33\n"
     ]
    }
   ],
   "source": [
    "add1=lambda a,b:a+b\n",
    "print(add1(10,23))"
   ]
  },
  {
   "cell_type": "markdown",
   "id": "9f0e3dfb",
   "metadata": {},
   "source": [
    "# Map Fucntion - Map function takes a function and sequence as its arguments, it return iterator on function which the function is applied\n",
    "- map function can take one function and iterable object"
   ]
  },
  {
   "cell_type": "code",
   "execution_count": null,
   "id": "6238c325",
   "metadata": {},
   "outputs": [],
   "source": []
  },
  {
   "cell_type": "code",
   "execution_count": 3,
   "id": "64e7a8cb",
   "metadata": {},
   "outputs": [
    {
     "name": "stdout",
     "output_type": "stream",
     "text": [
      "[1, 8, 27, 64, 125]\n"
     ]
    }
   ],
   "source": [
    "def multi(a):\n",
    "    return a**3\n",
    "\n",
    "#function create\n",
    "number=[1,2,3,4,5]\n",
    "ans=map(multi,number)# here we can store one function and one iterable list\n",
    "print(list(ans))"
   ]
  },
  {
   "cell_type": "code",
   "execution_count": 4,
   "id": "7adb2140",
   "metadata": {},
   "outputs": [
    {
     "name": "stdout",
     "output_type": "stream",
     "text": [
      "[4, 9, 16, 3136]\n"
     ]
    }
   ],
   "source": [
    "l1=[2,3,4,56]\n",
    "l2=map(lambda a:a**2,l1)\n",
    "print(list(l2))"
   ]
  },
  {
   "cell_type": "markdown",
   "id": "bc22d339",
   "metadata": {},
   "source": [
    "# Filter Function - \n",
    "- this function is used to filter the data with some iterable data\n",
    "- syntax :- filter(funciton_name,iterable)\n",
    "- in which only those values can store which output having true return"
   ]
  },
  {
   "cell_type": "code",
   "execution_count": 6,
   "id": "ccaa1480",
   "metadata": {},
   "outputs": [
    {
     "name": "stdout",
     "output_type": "stream",
     "text": [
      "[2, 4, 6, 8]\n"
     ]
    }
   ],
   "source": [
    "def isEven(a):\n",
    "    if(a%2==0):\n",
    "        return True\n",
    "    else:\n",
    "        return False\n",
    "\n",
    "l3=[1,2,3,4,5,6,7,8]\n",
    "l4=filter(isEven,l3)\n",
    "print(list(l4))"
   ]
  },
  {
   "cell_type": "markdown",
   "id": "5e6c42af",
   "metadata": {},
   "source": [
    "# Reduce Function:-\n",
    "- this function is used to apply a repatedly accumulate data a single value\n",
    "- in which first value is added to second value, then sum is added to chird value, and so on until the some of all value are not done\n",
    "- reduce function can be import from functools package"
   ]
  },
  {
   "cell_type": "code",
   "execution_count": 10,
   "id": "3712689f",
   "metadata": {},
   "outputs": [
    {
     "name": "stdout",
     "output_type": "stream",
     "text": [
      "15\n"
     ]
    }
   ],
   "source": [
    "def add(a,b):\n",
    "    return (a+b)\n",
    "l1=[1,2,3,4,5]\n",
    "from functools import reduce\n",
    "l2=reduce(add,l1)\n",
    "print(l2)"
   ]
  },
  {
   "cell_type": "markdown",
   "id": "fdbc1592",
   "metadata": {},
   "source": [
    "# Eval - evaluate the expression\n",
    "- method parse the epression, passed to this methods and run python expression within a code\n"
   ]
  },
  {
   "cell_type": "code",
   "execution_count": null,
   "id": "f5c7bf96",
   "metadata": {},
   "outputs": [],
   "source": []
  },
  {
   "cell_type": "code",
   "execution_count": null,
   "id": "57de2d05",
   "metadata": {},
   "outputs": [],
   "source": []
  }
 ],
 "metadata": {
  "kernelspec": {
   "display_name": "Python 3 (ipykernel)",
   "language": "python",
   "name": "python3"
  },
  "language_info": {
   "codemirror_mode": {
    "name": "ipython",
    "version": 3
   },
   "file_extension": ".py",
   "mimetype": "text/x-python",
   "name": "python",
   "nbconvert_exporter": "python",
   "pygments_lexer": "ipython3",
   "version": "3.11.4"
  }
 },
 "nbformat": 4,
 "nbformat_minor": 5
}
