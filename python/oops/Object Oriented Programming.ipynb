{
 "cells": [
  {
   "cell_type": "markdown",
   "id": "fd6a3a4c",
   "metadata": {},
   "source": [
    "## OOP's :- stands for object oriented programming, basically it is used to develop flexible and complex code in simplest manner.\n",
    "- types of oops\n",
    "    - Class \n",
    "    - Object - instances of any class \n",
    "    - Encasulation - \n",
    "    - Inheritence\n",
    "    - Polymorphism\n",
    "    - Abstraction"
   ]
  },
  {
   "cell_type": "markdown",
   "id": "fb82839d",
   "metadata": {},
   "source": [
    "# Class\n",
    "- blue print of object and methods, it is also a collection of method and variables\n",
    "- syntax for class:- \n",
    "    - class class_name:\n",
    "    - a= 2\n",
    "    - def b():\n",
    "- list, tuple, dict, all are methods of classes\n",
    "## class with one variable\n",
    "- class first:\n",
    "    - def --init--(self):\n",
    "        - print(\"initialize\")"
   ]
  },
  {
   "cell_type": "code",
   "execution_count": 3,
   "id": "8fe93c22",
   "metadata": {},
   "outputs": [],
   "source": [
    "class first:\n",
    "    def __init__(self):\n",
    "        print(\"initialize\")\n",
    "        #init is used like constructor, when we create object then initialize init function works automatically\n",
    "    def printt(self):\n",
    "        print(\"welcome to oops\")"
   ]
  },
  {
   "cell_type": "code",
   "execution_count": 4,
   "id": "b9dc5af5",
   "metadata": {},
   "outputs": [
    {
     "name": "stdout",
     "output_type": "stream",
     "text": [
      "initialize\n"
     ]
    }
   ],
   "source": [
    "obj_1=first()"
   ]
  },
  {
   "cell_type": "code",
   "execution_count": 5,
   "id": "69883d12",
   "metadata": {},
   "outputs": [
    {
     "name": "stdout",
     "output_type": "stream",
     "text": [
      "welcome to oops\n"
     ]
    }
   ],
   "source": [
    "obj_1.printt()"
   ]
  },
  {
   "cell_type": "code",
   "execution_count": null,
   "id": "9b11ae67",
   "metadata": {},
   "outputs": [],
   "source": []
  }
 ],
 "metadata": {
  "kernelspec": {
   "display_name": "Python 3 (ipykernel)",
   "language": "python",
   "name": "python3"
  },
  "language_info": {
   "codemirror_mode": {
    "name": "ipython",
    "version": 3
   },
   "file_extension": ".py",
   "mimetype": "text/x-python",
   "name": "python",
   "nbconvert_exporter": "python",
   "pygments_lexer": "ipython3",
   "version": "3.11.4"
  }
 },
 "nbformat": 4,
 "nbformat_minor": 5
}
