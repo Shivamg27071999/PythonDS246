{
 "cells": [
  {
   "cell_type": "markdown",
   "id": "fa231692",
   "metadata": {},
   "source": [
    "## Inheritance\n",
    "- one class can inherit the properties of one class with another class\n",
    "- Types of Inheritance\n",
    "    - Single - Inherit with single class\n",
    "    - Multilevel - inherit with multilevel class, e.g B inherit A, C inherit B. \n",
    "    - Multiple - one class inherit with more than one class, e.g. C inherit with A&B\n",
    "    - Hybrid - combination of one or more inheritance is known as Hybrid inheritance\n",
    "    - Hyrarichal - in which more than two classes inherit with one class, e.g. B,C,D inherit A"
   ]
  },
  {
   "cell_type": "markdown",
   "id": "6f200a2e",
   "metadata": {},
   "source": [
    "### Syntax :- \n",
    "- class A:\n",
    "- class B(A):"
   ]
  },
  {
   "cell_type": "markdown",
   "id": "f70639e9",
   "metadata": {},
   "source": [
    "## Sort Vs Sorted\n",
    "- sort - will sort the list, and orginal list impact\n",
    "- sorted - only print the sorted list without impacting the original list, in which original list will not be impact"
   ]
  },
  {
   "cell_type": "code",
   "execution_count": 3,
   "id": "1b2e12fa",
   "metadata": {},
   "outputs": [
    {
     "name": "stdout",
     "output_type": "stream",
     "text": [
      "Inistialize\n",
      "shivam 12\n"
     ]
    }
   ],
   "source": [
    "# single inheritance\n",
    "class a:\n",
    "    #constructor\n",
    "    def __init__(self, name, id):\n",
    "        print(\"Inistialize\")\n",
    "        self.name = name\n",
    "        self.id = id\n",
    "    #check person is or not\n",
    "    def Display(self):\n",
    "        print(self.name, self.id)\n",
    "\n",
    "#accessing the code\n",
    "obja=a('shivam',12)\n",
    "obja.Display()"
   ]
  },
  {
   "cell_type": "code",
   "execution_count": 4,
   "id": "0c22a77c",
   "metadata": {},
   "outputs": [
    {
     "name": "stdout",
     "output_type": "stream",
     "text": [
      "Inistialize\n",
      "Ajay 123\n",
      "Child class called\n"
     ]
    }
   ],
   "source": [
    "#inheriting single class i.e. class A\n",
    "class b(a):\n",
    "    def Print(self):\n",
    "        print(\"Child class called\")\n",
    "\n",
    "obj_a=b(\"Ajay\", 123)\n",
    "obj_a.Display()\n",
    "obj_a.Print()"
   ]
  },
  {
   "cell_type": "code",
   "execution_count": 10,
   "id": "1d3e0b06",
   "metadata": {},
   "outputs": [
    {
     "name": "stdout",
     "output_type": "stream",
     "text": [
      "fathername is  ram\n",
      "mothername is  suman\n"
     ]
    }
   ],
   "source": [
    "# multiple inheritance\n",
    "class mother:\n",
    "    mothername=''\n",
    "    def mother(self):\n",
    "        print(self.mothername)\n",
    "class father:\n",
    "    fathername=''\n",
    "    def father(self):\n",
    "        print(self.fathername)\n",
    "class child(mother, father):\n",
    "    def parents(self):\n",
    "        print(\"fathername is \", self.fathername)\n",
    "        print(\"mothername is \", self.mothername)\n",
    "s1=child()\n",
    "s1.mothername='suman'\n",
    "s1.fathername='ram'\n",
    "s1.parents()"
   ]
  },
  {
   "cell_type": "code",
   "execution_count": null,
   "id": "537c7e96",
   "metadata": {},
   "outputs": [],
   "source": []
  }
 ],
 "metadata": {
  "kernelspec": {
   "display_name": "Python 3 (ipykernel)",
   "language": "python",
   "name": "python3"
  },
  "language_info": {
   "codemirror_mode": {
    "name": "ipython",
    "version": 3
   },
   "file_extension": ".py",
   "mimetype": "text/x-python",
   "name": "python",
   "nbconvert_exporter": "python",
   "pygments_lexer": "ipython3",
   "version": "3.11.4"
  }
 },
 "nbformat": 4,
 "nbformat_minor": 5
}
